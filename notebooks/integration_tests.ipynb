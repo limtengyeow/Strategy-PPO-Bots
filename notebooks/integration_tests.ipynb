{
 "cells": [
  {
   "cell_type": "markdown",
   "id": "dd5349c7",
   "metadata": {},
   "source": [
    "# ✅ Integration Tests for Trading PPO System"
   ]
  },
  {
   "cell_type": "markdown",
   "id": "74534cd9",
   "metadata": {},
   "source": [
    "## ⚙️ Setup: Imports and Config"
   ]
  },
  {
   "cell_type": "code",
   "execution_count": 1,
   "id": "7f3e9259",
   "metadata": {},
   "outputs": [
    {
     "name": "stdout",
     "output_type": "stream",
     "text": [
      "📁 Notebook directory: /home/jovyan/work/notebooks\n",
      "✅ Project root set to: /home/jovyan/work\n"
     ]
    }
   ],
   "source": [
    "## Set-up Environment\n",
    "import os\n",
    "import sys\n",
    "\n",
    "# Set project root (assumes notebook is in 'notebooks/' and project is one level up)\n",
    "notebook_dir = os.getcwd()\n",
    "project_root = os.path.abspath(os.path.join(notebook_dir, \"..\"))\n",
    "os.chdir(project_root)\n",
    "\n",
    "# Add root to Python path for absolute imports like `env.trading_env`\n",
    "if project_root not in sys.path:\n",
    "    sys.path.append(project_root)\n",
    "\n",
    "print(\"📁 Notebook directory:\", notebook_dir)\n",
    "print(\"✅ Project root set to:\", project_root)\n"
   ]
  },
  {
   "cell_type": "code",
   "execution_count": 2,
   "id": "3a58b368",
   "metadata": {},
   "outputs": [],
   "source": [
    "from stable_baselines3 import PPO\n",
    "from env.trading_env import TradingEnv\n",
    "import os\n",
    "\n",
    "CONFIG_PATH = \"config.json\"\n",
    "MODEL_DIR = \"models/\"\n"
   ]
  },
  {
   "cell_type": "markdown",
   "id": "ea2bd93e",
   "metadata": {},
   "source": [
    "## 🔁 Integration Test: PPO Training"
   ]
  },
  {
   "cell_type": "code",
   "execution_count": 3,
   "id": "bf4c8562",
   "metadata": {},
   "outputs": [
    {
     "name": "stderr",
     "output_type": "stream",
     "text": [
      "/usr/local/lib/python3.10/site-packages/pydantic/_internal/_config.py:323: PydanticDeprecatedSince20: Support for class-based `config` is deprecated, use ConfigDict instead. Deprecated in Pydantic V2.0 to be removed in V3.0. See Pydantic V2 Migration Guide at https://errors.pydantic.dev/2.11/migration/\n",
      "  warnings.warn(DEPRECATION_MESSAGE, DeprecationWarning)\n",
      "/usr/local/lib/python3.10/site-packages/stable_baselines3/common/vec_env/patch_gym.py:49: UserWarning: You provided an OpenAI Gym environment. We strongly recommend transitioning to Gymnasium environments. Stable-Baselines3 is automatically wrapping your environments in a compatibility layer, which could potentially cause issues.\n",
      "  warnings.warn(\n"
     ]
    },
    {
     "name": "stdout",
     "output_type": "stream",
     "text": [
      "[Train] Using test_NVDA_5minute.csv for test\n",
      "\n",
      "=== DEBUG START ===\n",
      "[DEBUG] CONFIG keys: dict_keys(['env', 'features', 'actions', 'rewards', 'training', 'evaluation', 'logging', 'metrics', 'DEBUG'])\n",
      "[DEBUG] FEATURES in config: [{'type': 'price', 'field': 'close', 'normalize': True, 'method': 'zscore'}, {'type': 'price', 'field': 'volume', 'normalize': True, 'method': 'rolling_zscore'}]\n",
      "[DEBUG] DataFrame columns: ['timestamp', 'open', 'high', 'low', 'close', 'volume']\n",
      "[DEBUG] DataFrame dtypes:\n",
      " timestamp     object\n",
      "open         float64\n",
      "high         float64\n",
      "low          float64\n",
      "close        float64\n",
      "volume       float64\n",
      "dtype: object\n",
      "[DEBUG] First few rows:\n",
      "              timestamp    open    high     low   close   volume\n",
      "0  2023-01-03 09:00:00  15.070  15.100  14.817  14.895  48630.0\n",
      "1  2023-01-03 09:05:00  14.895  14.895  14.868  14.872  27850.0\n",
      "2  2023-01-03 09:10:00  14.872  14.890  14.872  14.890  44470.0\n",
      "3  2023-01-03 09:15:00  14.890  14.938  14.890  14.900  46120.0\n",
      "4  2023-01-03 09:20:00  14.900  14.949  14.892  14.949  41460.0\n",
      "=== DEBUG END ===\n",
      "\n",
      "[NORMALIZE:zscore] close mean=21.8778, std=3.7360\n",
      "[NORMALIZE:rolling_zscore] volume with window=20\n",
      "Using cpu device\n",
      "[Callback] Rollout finished at step 2048, Avg Reward: 0.0301, Max Reward: 0.0301\n",
      "-----------------------------\n",
      "| time/              |      |\n",
      "|    fps             | 160  |\n",
      "|    iterations      | 1    |\n",
      "|    time_elapsed    | 12   |\n",
      "|    total_timesteps | 2048 |\n",
      "-----------------------------\n",
      "[Done] Model saved for test at models/ppo_test\n",
      "[Train] Using NVDA_5minute.csv for NVDA\n",
      "\n",
      "=== DEBUG START ===\n",
      "[DEBUG] CONFIG keys: dict_keys(['env', 'features', 'actions', 'rewards', 'training', 'evaluation', 'logging', 'metrics', 'DEBUG'])\n",
      "[DEBUG] FEATURES in config: [{'type': 'price', 'field': 'close', 'normalize': True, 'method': 'zscore'}, {'type': 'price', 'field': 'volume', 'normalize': True, 'method': 'rolling_zscore'}]\n",
      "[DEBUG] DataFrame columns: ['timestamp', 'open', 'high', 'low', 'close', 'volume']\n",
      "[DEBUG] DataFrame dtypes:\n",
      " timestamp     object\n",
      "open         float64\n",
      "high         float64\n",
      "low          float64\n",
      "close        float64\n",
      "volume       float64\n",
      "dtype: object\n",
      "[DEBUG] First few rows:\n",
      "              timestamp    open    high     low   close   volume\n",
      "0  2023-01-03 09:00:00  15.070  15.100  14.817  14.895  48630.0\n",
      "1  2023-01-03 09:05:00  14.895  14.895  14.868  14.872  27850.0\n",
      "2  2023-01-03 09:10:00  14.872  14.890  14.872  14.890  44470.0\n",
      "3  2023-01-03 09:15:00  14.890  14.938  14.890  14.900  46120.0\n",
      "4  2023-01-03 09:20:00  14.900  14.949  14.892  14.949  41460.0\n",
      "=== DEBUG END ===\n",
      "\n",
      "[NORMALIZE:zscore] close mean=21.8778, std=3.7360\n",
      "[NORMALIZE:rolling_zscore] volume with window=20\n",
      "Using cpu device\n"
     ]
    },
    {
     "name": "stderr",
     "output_type": "stream",
     "text": [
      "/usr/local/lib/python3.10/site-packages/stable_baselines3/common/vec_env/patch_gym.py:49: UserWarning: You provided an OpenAI Gym environment. We strongly recommend transitioning to Gymnasium environments. Stable-Baselines3 is automatically wrapping your environments in a compatibility layer, which could potentially cause issues.\n",
      "  warnings.warn(\n"
     ]
    },
    {
     "name": "stdout",
     "output_type": "stream",
     "text": [
      "[Callback] Rollout finished at step 2048, Avg Reward: -0.0081, Max Reward: -0.0081\n",
      "-----------------------------\n",
      "| time/              |      |\n",
      "|    fps             | 161  |\n",
      "|    iterations      | 1    |\n",
      "|    time_elapsed    | 12   |\n",
      "|    total_timesteps | 2048 |\n",
      "-----------------------------\n",
      "[Done] Model saved for NVDA at models/ppo_NVDA\n"
     ]
    }
   ],
   "source": [
    "%run train/train_ppo.py --test"
   ]
  },
  {
   "cell_type": "code",
   "execution_count": 3,
   "id": "17c482fb",
   "metadata": {},
   "outputs": [
    {
     "name": "stdout",
     "output_type": "stream",
     "text": [
      "test_can_open_position_with_buy (tests.test_trading_env.TestTradingEnv) ... ok\n",
      "test_env_closes_gracefully (tests.test_trading_env.TestTradingEnv) ... ok\n",
      "test_episode_runs_without_crash (tests.test_trading_env.TestTradingEnv) ... ok\n",
      "test_position_close_on_reverse_action (tests.test_trading_env.TestTradingEnv) ... ok\n",
      "test_reset_output_shape_and_type (tests.test_trading_env.TestTradingEnv) ... ok\n",
      "test_reward_has_positive_and_negative_values (tests.test_trading_env.TestTradingEnv) ... Sampled rewards for sign check: [np.float64(0.35587583962392905), np.float64(-0.02069169894456407), np.float64(-0.008119655120174443), np.float64(0.01982393981067264), np.float64(0.30155232418896083), np.float64(0.6942560333211951), np.float64(-0.1912991751766125), np.float64(2.9572498874939663), 0.0, np.float64(3.4925906245572875), np.float64(2.153667316606796), np.float64(3.089601886275753), np.float64(2.354539625191079), np.float64(2.8325487797019635), 0.0, 0.0, np.float64(-6.894314189949205), np.float64(0.16612414016943863), np.float64(17.437398410927397), 0.0, np.float64(0.3005104612499508), np.float64(-0.744184338055302), np.float64(0.3522211213781733), np.float64(-0.49472973428377753), np.float64(0.3096840598694898), np.float64(-0.43849678576436135), 0.0, np.float64(-0.45006921376629416), np.float64(-0.1800867119052087), 0.0, np.float64(-0.10706172466350482), 0.0, np.float64(3.5682966709086843), np.float64(3.8136680425260363), np.float64(-0.6752963536968593), np.float64(-1.1238828544417725), np.float64(-8.513230314795134), np.float64(-0.4051645055421817), 0.0, 0.0, 0.0, np.float64(0.776815112535884), np.float64(9.053811680524108), np.float64(22.156037687102145), 0.0, np.float64(-4.019249056161861), np.float64(0.204685511702971), np.float64(-2.3430662760499974), np.float64(-1.9007639660863118), np.float64(-1.4526790943460293)]\n",
      "ok\n",
      "test_reward_is_not_constant_zero (tests.test_trading_env.TestTradingEnv) ... Sampled rewards: [0.0, np.float64(-0.005120781555029136), np.float64(-0.3070954898170364), np.float64(-0.8365040748939864), np.float64(-0.5056735078529737), np.float64(-1.6616109544319453), np.float64(-0.5812448816639035), np.float64(0.8562090728029625), np.float64(9.760900669476262), np.float64(-0.391040926716933), np.float64(-0.8644475777765652), 0.0, np.float64(-0.26396516524020813), 0.0, 0.0, np.float64(-0.09128328937897935), np.float64(0.1088059012147057), 0.0, np.float64(-0.648421054720953), np.float64(1.1533336945713883), 0.0, 0.0, 0.0, np.float64(0.6327528656815682), np.float64(0.5193099152124225), np.float64(0.8830249494545309), np.float64(0.4073506535532983), np.float64(0.024659945236448343), 0.0, np.float64(0.03629922955757525)]\n",
      "ok\n",
      "test_single_active_position_only (tests.test_trading_env.TestTradingEnv) ... ok\n",
      "test_step_output_types (tests.test_trading_env.TestTradingEnv) ... ok\n",
      "\n",
      "----------------------------------------------------------------------\n",
      "Ran 9 tests in 0.074s\n",
      "\n",
      "OK\n"
     ]
    }
   ],
   "source": [
    "! python -m unittest tests/test_trading_env.py -v"
   ]
  },
  {
   "cell_type": "markdown",
   "id": "444222f3",
   "metadata": {},
   "source": [
    "## 🧠 Integration Test: Model Inference"
   ]
  },
  {
   "cell_type": "code",
   "execution_count": null,
   "id": "ef817a5c",
   "metadata": {},
   "outputs": [],
   "source": [
    "env = TradingEnv(config_path=CONFIG_PATH)\n",
    "model = PPO.load(os.path.join(MODEL_DIR, \"ppo_NVDA\"))\n",
    "obs = env.reset()\n",
    "for _ in range(5):\n",
    "    action, _ = model.predict(obs, deterministic=True)\n",
    "    obs, reward, done, _ = env.step(action)\n",
    "    print(f\"Action: {action}, Reward: {reward}, Done: {done}\")\n",
    "    if done:\n",
    "        obs = env.reset()\n"
   ]
  },
  {
   "cell_type": "markdown",
   "id": "ddd5b12f",
   "metadata": {},
   "source": [
    "## 📉 Integration Test: Model Evaluation (Optional)"
   ]
  },
  {
   "cell_type": "code",
   "execution_count": null,
   "id": "09e0ba0c",
   "metadata": {},
   "outputs": [],
   "source": [
    "# %run eval/evaluate.py --test  # Uncomment if evaluation script supports testing"
   ]
  },
  {
   "cell_type": "code",
   "execution_count": 4,
   "id": "629dbb84",
   "metadata": {},
   "outputs": [
    {
     "name": "stdout",
     "output_type": "stream",
     "text": [
      "Collecting pytest\n",
      "  Downloading pytest-8.3.5-py3-none-any.whl.metadata (7.6 kB)\n",
      "Requirement already satisfied: exceptiongroup>=1.0.0rc8 in /usr/local/lib/python3.10/site-packages (from pytest) (1.3.0)\n",
      "Collecting iniconfig (from pytest)\n",
      "  Downloading iniconfig-2.1.0-py3-none-any.whl.metadata (2.7 kB)\n",
      "Requirement already satisfied: packaging in /usr/local/lib/python3.10/site-packages (from pytest) (24.2)\n",
      "Collecting pluggy<2,>=1.5 (from pytest)\n",
      "  Downloading pluggy-1.6.0-py3-none-any.whl.metadata (4.8 kB)\n",
      "Requirement already satisfied: tomli>=1 in /usr/local/lib/python3.10/site-packages (from pytest) (2.2.1)\n",
      "Requirement already satisfied: typing-extensions>=4.6.0 in /usr/local/lib/python3.10/site-packages (from exceptiongroup>=1.0.0rc8->pytest) (4.13.2)\n",
      "Downloading pytest-8.3.5-py3-none-any.whl (343 kB)\n",
      "Downloading pluggy-1.6.0-py3-none-any.whl (20 kB)\n",
      "Downloading iniconfig-2.1.0-py3-none-any.whl (6.0 kB)\n",
      "Installing collected packages: pluggy, iniconfig, pytest\n",
      "\u001b[2K   \u001b[90m━━━━━━━━━━━━━━━━━━━━━━━━━━━━━━━━━━━━━━━━\u001b[0m \u001b[32m3/3\u001b[0m [pytest]\n",
      "\u001b[1A\u001b[2KSuccessfully installed iniconfig-2.1.0 pluggy-1.6.0 pytest-8.3.5\n",
      "\u001b[33mWARNING: Running pip as the 'root' user can result in broken permissions and conflicting behaviour with the system package manager, possibly rendering your system unusable. It is recommended to use a virtual environment instead: https://pip.pypa.io/warnings/venv. Use the --root-user-action option if you know what you are doing and want to suppress this warning.\u001b[0m\u001b[33m\n",
      "\u001b[0m"
     ]
    }
   ],
   "source": [
    "! pip install pytest\n"
   ]
  },
  {
   "cell_type": "code",
   "execution_count": 6,
   "id": "12002156",
   "metadata": {},
   "outputs": [
    {
     "name": "stdout",
     "output_type": "stream",
     "text": [
      "\u001b[1m============================= test session starts ==============================\u001b[0m\n",
      "platform linux -- Python 3.10.17, pytest-8.3.5, pluggy-1.6.0\n",
      "rootdir: /home/jovyan/work\n",
      "plugins: anyio-4.9.0\n",
      "collected 7 items                                                              \u001b[0m\n",
      "\n",
      "tests/test_feature_engineering.py \u001b[32m.\u001b[0m\u001b[32m.\u001b[0m\u001b[32m.\u001b[0m\u001b[32m.\u001b[0m\u001b[32m.\u001b[0m\u001b[32m.\u001b[0m\u001b[32m.\u001b[0m\u001b[32m                                [100%]\u001b[0m\n",
      "\n",
      "\u001b[32m============================== \u001b[32m\u001b[1m7 passed\u001b[0m\u001b[32m in 0.18s\u001b[0m\u001b[32m ===============================\u001b[0m\n"
     ]
    }
   ],
   "source": [
    "! pytest tests/test_feature_engineering.py\n"
   ]
  }
 ],
 "metadata": {
  "kernelspec": {
   "display_name": "Python 3",
   "language": "python",
   "name": "python3"
  },
  "language_info": {
   "codemirror_mode": {
    "name": "ipython",
    "version": 3
   },
   "file_extension": ".py",
   "mimetype": "text/x-python",
   "name": "python",
   "nbconvert_exporter": "python",
   "pygments_lexer": "ipython3",
   "version": "3.10.17"
  }
 },
 "nbformat": 4,
 "nbformat_minor": 5
}
