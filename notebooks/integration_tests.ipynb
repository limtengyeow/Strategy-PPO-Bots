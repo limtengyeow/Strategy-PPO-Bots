{
 "cells": [
  {
   "cell_type": "markdown",
   "id": "dd5349c7",
   "metadata": {},
   "source": [
    "# ✅ Integration Tests for Trading PPO System"
   ]
  },
  {
   "cell_type": "markdown",
   "id": "74534cd9",
   "metadata": {},
   "source": [
    "## ⚙️ Setup: Imports and Config"
   ]
  },
  {
   "cell_type": "code",
   "execution_count": 1,
   "id": "7f3e9259",
   "metadata": {},
   "outputs": [
    {
     "name": "stdout",
     "output_type": "stream",
     "text": [
      "📁 Notebook directory: /home/jovyan/work/notebooks\n",
      "✅ Project root set to: /home/jovyan/work\n"
     ]
    }
   ],
   "source": [
    "## Set-up Environment\n",
    "import os\n",
    "import sys\n",
    "\n",
    "# Set project root (assumes notebook is in 'notebooks/' and project is one level up)\n",
    "notebook_dir = os.getcwd()\n",
    "project_root = os.path.abspath(os.path.join(notebook_dir, \"..\"))\n",
    "os.chdir(project_root)\n",
    "\n",
    "# Add root to Python path for absolute imports like `env.trading_env`\n",
    "if project_root not in sys.path:\n",
    "    sys.path.append(project_root)\n",
    "\n",
    "print(\"📁 Notebook directory:\", notebook_dir)\n",
    "print(\"✅ Project root set to:\", project_root)\n"
   ]
  },
  {
   "cell_type": "code",
   "execution_count": 2,
   "id": "3a58b368",
   "metadata": {},
   "outputs": [],
   "source": [
    "from stable_baselines3 import PPO\n",
    "from env.trading_env import TradingEnv\n",
    "import os\n",
    "\n",
    "CONFIG_PATH = \"config.json\"\n",
    "MODEL_DIR = \"models/\"\n"
   ]
  },
  {
   "cell_type": "markdown",
   "id": "ea2bd93e",
   "metadata": {},
   "source": [
    "## 🔁 Integration Test: PPO Training"
   ]
  },
  {
   "cell_type": "code",
   "execution_count": 5,
   "id": "bf4c8562",
   "metadata": {},
   "outputs": [
    {
     "name": "stderr",
     "output_type": "stream",
     "text": [
      "/usr/local/lib/python3.10/site-packages/pydantic/_internal/_config.py:323: PydanticDeprecatedSince20: Support for class-based `config` is deprecated, use ConfigDict instead. Deprecated in Pydantic V2.0 to be removed in V3.0. See Pydantic V2 Migration Guide at https://errors.pydantic.dev/2.11/migration/\n",
      "  warnings.warn(DEPRECATION_MESSAGE, DeprecationWarning)\n",
      "/usr/local/lib/python3.10/site-packages/stable_baselines3/common/vec_env/patch_gym.py:49: UserWarning: You provided an OpenAI Gym environment. We strongly recommend transitioning to Gymnasium environments. Stable-Baselines3 is automatically wrapping your environments in a compatibility layer, which could potentially cause issues.\n",
      "  warnings.warn(\n"
     ]
    },
    {
     "name": "stdout",
     "output_type": "stream",
     "text": [
      "[Train] Using NVDA_5minute.csv for NVDA\n",
      "Using cpu device\n",
      "[Callback] Rollout finished at step 2048, Avg Reward: 0.0000, Max Reward: 0.0000\n",
      "-----------------------------\n",
      "| time/              |      |\n",
      "|    fps             | 780  |\n",
      "|    iterations      | 1    |\n",
      "|    time_elapsed    | 2    |\n",
      "|    total_timesteps | 2048 |\n",
      "-----------------------------\n",
      "[Done] Model saved for NVDA at models/ppo_NVDA\n"
     ]
    }
   ],
   "source": [
    "%run train/train_ppo.py --test"
   ]
  },
  {
   "cell_type": "code",
   "execution_count": 3,
   "id": "17c482fb",
   "metadata": {},
   "outputs": [
    {
     "name": "stdout",
     "output_type": "stream",
     "text": [
      "test_can_open_position_with_buy (tests.test_trading_env.TestTradingEnv) ... ERROR\n",
      "test_env_closes_gracefully (tests.test_trading_env.TestTradingEnv) ... ERROR\n",
      "test_episode_runs_without_crash (tests.test_trading_env.TestTradingEnv) ... ERROR\n",
      "test_position_close_on_reverse_action (tests.test_trading_env.TestTradingEnv) ... ERROR\n",
      "test_reset_output_shape_and_type (tests.test_trading_env.TestTradingEnv) ... ERROR\n",
      "test_reward_has_positive_and_negative_values (tests.test_trading_env.TestTradingEnv) ... ERROR\n",
      "test_reward_is_not_constant_zero (tests.test_trading_env.TestTradingEnv) ... ERROR\n",
      "test_single_active_position_only (tests.test_trading_env.TestTradingEnv) ... ERROR\n",
      "test_step_output_types (tests.test_trading_env.TestTradingEnv) ... ERROR\n",
      "\n",
      "======================================================================\n",
      "ERROR: test_can_open_position_with_buy (tests.test_trading_env.TestTradingEnv)\n",
      "----------------------------------------------------------------------\n",
      "Traceback (most recent call last):\n",
      "  File \"/home/jovyan/work/tests/test_trading_env.py\", line 15, in setUp\n",
      "    self.env = TradingEnv(config)\n",
      "  File \"/home/jovyan/work/env/trading_env.py\", line 11, in __init__\n",
      "    raise ValueError(\"DataFrame 'df' must be provided to TradingEnv.\")\n",
      "ValueError: DataFrame 'df' must be provided to TradingEnv.\n",
      "\n",
      "======================================================================\n",
      "ERROR: test_env_closes_gracefully (tests.test_trading_env.TestTradingEnv)\n",
      "----------------------------------------------------------------------\n",
      "Traceback (most recent call last):\n",
      "  File \"/home/jovyan/work/tests/test_trading_env.py\", line 15, in setUp\n",
      "    self.env = TradingEnv(config)\n",
      "  File \"/home/jovyan/work/env/trading_env.py\", line 11, in __init__\n",
      "    raise ValueError(\"DataFrame 'df' must be provided to TradingEnv.\")\n",
      "ValueError: DataFrame 'df' must be provided to TradingEnv.\n",
      "\n",
      "======================================================================\n",
      "ERROR: test_episode_runs_without_crash (tests.test_trading_env.TestTradingEnv)\n",
      "----------------------------------------------------------------------\n",
      "Traceback (most recent call last):\n",
      "  File \"/home/jovyan/work/tests/test_trading_env.py\", line 15, in setUp\n",
      "    self.env = TradingEnv(config)\n",
      "  File \"/home/jovyan/work/env/trading_env.py\", line 11, in __init__\n",
      "    raise ValueError(\"DataFrame 'df' must be provided to TradingEnv.\")\n",
      "ValueError: DataFrame 'df' must be provided to TradingEnv.\n",
      "\n",
      "======================================================================\n",
      "ERROR: test_position_close_on_reverse_action (tests.test_trading_env.TestTradingEnv)\n",
      "----------------------------------------------------------------------\n",
      "Traceback (most recent call last):\n",
      "  File \"/home/jovyan/work/tests/test_trading_env.py\", line 15, in setUp\n",
      "    self.env = TradingEnv(config)\n",
      "  File \"/home/jovyan/work/env/trading_env.py\", line 11, in __init__\n",
      "    raise ValueError(\"DataFrame 'df' must be provided to TradingEnv.\")\n",
      "ValueError: DataFrame 'df' must be provided to TradingEnv.\n",
      "\n",
      "======================================================================\n",
      "ERROR: test_reset_output_shape_and_type (tests.test_trading_env.TestTradingEnv)\n",
      "----------------------------------------------------------------------\n",
      "Traceback (most recent call last):\n",
      "  File \"/home/jovyan/work/tests/test_trading_env.py\", line 15, in setUp\n",
      "    self.env = TradingEnv(config)\n",
      "  File \"/home/jovyan/work/env/trading_env.py\", line 11, in __init__\n",
      "    raise ValueError(\"DataFrame 'df' must be provided to TradingEnv.\")\n",
      "ValueError: DataFrame 'df' must be provided to TradingEnv.\n",
      "\n",
      "======================================================================\n",
      "ERROR: test_reward_has_positive_and_negative_values (tests.test_trading_env.TestTradingEnv)\n",
      "----------------------------------------------------------------------\n",
      "Traceback (most recent call last):\n",
      "  File \"/home/jovyan/work/tests/test_trading_env.py\", line 15, in setUp\n",
      "    self.env = TradingEnv(config)\n",
      "  File \"/home/jovyan/work/env/trading_env.py\", line 11, in __init__\n",
      "    raise ValueError(\"DataFrame 'df' must be provided to TradingEnv.\")\n",
      "ValueError: DataFrame 'df' must be provided to TradingEnv.\n",
      "\n",
      "======================================================================\n",
      "ERROR: test_reward_is_not_constant_zero (tests.test_trading_env.TestTradingEnv)\n",
      "----------------------------------------------------------------------\n",
      "Traceback (most recent call last):\n",
      "  File \"/home/jovyan/work/tests/test_trading_env.py\", line 15, in setUp\n",
      "    self.env = TradingEnv(config)\n",
      "  File \"/home/jovyan/work/env/trading_env.py\", line 11, in __init__\n",
      "    raise ValueError(\"DataFrame 'df' must be provided to TradingEnv.\")\n",
      "ValueError: DataFrame 'df' must be provided to TradingEnv.\n",
      "\n",
      "======================================================================\n",
      "ERROR: test_single_active_position_only (tests.test_trading_env.TestTradingEnv)\n",
      "----------------------------------------------------------------------\n",
      "Traceback (most recent call last):\n",
      "  File \"/home/jovyan/work/tests/test_trading_env.py\", line 15, in setUp\n",
      "    self.env = TradingEnv(config)\n",
      "  File \"/home/jovyan/work/env/trading_env.py\", line 11, in __init__\n",
      "    raise ValueError(\"DataFrame 'df' must be provided to TradingEnv.\")\n",
      "ValueError: DataFrame 'df' must be provided to TradingEnv.\n",
      "\n",
      "======================================================================\n",
      "ERROR: test_step_output_types (tests.test_trading_env.TestTradingEnv)\n",
      "----------------------------------------------------------------------\n",
      "Traceback (most recent call last):\n",
      "  File \"/home/jovyan/work/tests/test_trading_env.py\", line 15, in setUp\n",
      "    self.env = TradingEnv(config)\n",
      "  File \"/home/jovyan/work/env/trading_env.py\", line 11, in __init__\n",
      "    raise ValueError(\"DataFrame 'df' must be provided to TradingEnv.\")\n",
      "ValueError: DataFrame 'df' must be provided to TradingEnv.\n",
      "\n",
      "----------------------------------------------------------------------\n",
      "Ran 9 tests in 0.003s\n",
      "\n",
      "FAILED (errors=9)\n"
     ]
    }
   ],
   "source": [
    "! python -m unittest tests/test_trading_env.py -v"
   ]
  },
  {
   "cell_type": "markdown",
   "id": "444222f3",
   "metadata": {},
   "source": [
    "## 🧠 Integration Test: Model Inference"
   ]
  },
  {
   "cell_type": "code",
   "execution_count": null,
   "id": "ef817a5c",
   "metadata": {},
   "outputs": [],
   "source": [
    "env = TradingEnv(config_path=CONFIG_PATH)\n",
    "model = PPO.load(os.path.join(MODEL_DIR, \"ppo_NVDA\"))\n",
    "obs = env.reset()\n",
    "for _ in range(5):\n",
    "    action, _ = model.predict(obs, deterministic=True)\n",
    "    obs, reward, done, _ = env.step(action)\n",
    "    print(f\"Action: {action}, Reward: {reward}, Done: {done}\")\n",
    "    if done:\n",
    "        obs = env.reset()\n"
   ]
  },
  {
   "cell_type": "markdown",
   "id": "ddd5b12f",
   "metadata": {},
   "source": [
    "## 📉 Integration Test: Model Evaluation (Optional)"
   ]
  },
  {
   "cell_type": "code",
   "execution_count": null,
   "id": "09e0ba0c",
   "metadata": {},
   "outputs": [],
   "source": [
    "# %run eval/evaluate.py --test  # Uncomment if evaluation script supports testing"
   ]
  }
 ],
 "metadata": {
  "kernelspec": {
   "display_name": "Python 3",
   "language": "python",
   "name": "python3"
  },
  "language_info": {
   "codemirror_mode": {
    "name": "ipython",
    "version": 3
   },
   "file_extension": ".py",
   "mimetype": "text/x-python",
   "name": "python",
   "nbconvert_exporter": "python",
   "pygments_lexer": "ipython3",
   "version": "3.10.17"
  }
 },
 "nbformat": 4,
 "nbformat_minor": 5
}
