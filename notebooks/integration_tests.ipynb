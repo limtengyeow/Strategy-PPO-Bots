{
 "cells": [
  {
   "cell_type": "markdown",
   "id": "dd5349c7",
   "metadata": {},
   "source": [
    "# ✅ Integration Tests for Trading PPO System"
   ]
  },
  {
   "cell_type": "markdown",
   "id": "74534cd9",
   "metadata": {},
   "source": [
    "## ⚙️ Setup: Imports and Config"
   ]
  },
  {
   "cell_type": "code",
   "execution_count": 1,
   "id": "7f3e9259",
   "metadata": {},
   "outputs": [
    {
     "name": "stdout",
     "output_type": "stream",
     "text": [
      "📁 Notebook directory: /home/jovyan/work/notebooks\n",
      "✅ Project root set to: /home/jovyan/work\n"
     ]
    }
   ],
   "source": [
    "## Set-up Environment\n",
    "import os\n",
    "import sys\n",
    "\n",
    "# Set project root (assumes notebook is in 'notebooks/' and project is one level up)\n",
    "notebook_dir = os.getcwd()\n",
    "project_root = os.path.abspath(os.path.join(notebook_dir, \"..\"))\n",
    "os.chdir(project_root)\n",
    "\n",
    "# Add root to Python path for absolute imports like `env.trading_env`\n",
    "if project_root not in sys.path:\n",
    "    sys.path.append(project_root)\n",
    "\n",
    "print(\"📁 Notebook directory:\", notebook_dir)\n",
    "print(\"✅ Project root set to:\", project_root)\n"
   ]
  },
  {
   "cell_type": "code",
   "execution_count": 2,
   "id": "3a58b368",
   "metadata": {},
   "outputs": [],
   "source": [
    "from stable_baselines3 import PPO\n",
    "from env.trading_env import TradingEnv\n",
    "import os\n",
    "\n",
    "CONFIG_PATH = \"config.json\"\n",
    "MODEL_DIR = \"models/\"\n"
   ]
  },
  {
   "cell_type": "markdown",
   "id": "ea2bd93e",
   "metadata": {},
   "source": [
    "## 🔁 Integration Test: PPO Training"
   ]
  },
  {
   "cell_type": "code",
   "execution_count": 3,
   "id": "bf4c8562",
   "metadata": {},
   "outputs": [
    {
     "name": "stderr",
     "output_type": "stream",
     "text": [
      "/usr/local/lib/python3.10/site-packages/pydantic/_internal/_config.py:323: PydanticDeprecatedSince20: Support for class-based `config` is deprecated, use ConfigDict instead. Deprecated in Pydantic V2.0 to be removed in V3.0. See Pydantic V2 Migration Guide at https://errors.pydantic.dev/2.11/migration/\n",
      "  warnings.warn(DEPRECATION_MESSAGE, DeprecationWarning)\n",
      "/usr/local/lib/python3.10/site-packages/stable_baselines3/common/vec_env/patch_gym.py:49: UserWarning: You provided an OpenAI Gym environment. We strongly recommend transitioning to Gymnasium environments. Stable-Baselines3 is automatically wrapping your environments in a compatibility layer, which could potentially cause issues.\n",
      "  warnings.warn(\n"
     ]
    },
    {
     "name": "stdout",
     "output_type": "stream",
     "text": [
      "[Train] Using test_NVDA_5minute.csv for test\n",
      "\n",
      "=== DEBUG START ===\n",
      "[DEBUG] CONFIG keys: dict_keys(['env', 'training', 'evaluation', 'logging', 'metrics'])\n",
      "[DEBUG] FEATURES in config: [{'type': 'price', 'field': 'close', 'normalize': False}, {'type': 'price', 'field': 'volume', 'normalize': False}]\n",
      "[DEBUG] DataFrame columns: ['timestamp', 'open', 'high', 'low', 'close', 'volume']\n",
      "[DEBUG] DataFrame dtypes:\n",
      " timestamp     object\n",
      "open         float64\n",
      "high         float64\n",
      "low          float64\n",
      "close        float64\n",
      "volume       float64\n",
      "dtype: object\n",
      "[DEBUG] First few rows:\n",
      "              timestamp    open    high     low   close   volume\n",
      "0  2023-01-03 09:00:00  15.070  15.100  14.817  14.895  48630.0\n",
      "1  2023-01-03 09:05:00  14.895  14.895  14.868  14.872  27850.0\n",
      "2  2023-01-03 09:10:00  14.872  14.890  14.872  14.890  44470.0\n",
      "3  2023-01-03 09:15:00  14.890  14.938  14.890  14.900  46120.0\n",
      "4  2023-01-03 09:20:00  14.900  14.949  14.892  14.949  41460.0\n",
      "=== DEBUG END ===\n",
      "\n",
      "Using cpu device\n",
      "[Callback] Rollout finished at step 2048, Avg Reward: -0.0028, Max Reward: -0.0028\n",
      "-----------------------------\n",
      "| time/              |      |\n",
      "|    fps             | 374  |\n",
      "|    iterations      | 1    |\n",
      "|    time_elapsed    | 5    |\n",
      "|    total_timesteps | 2048 |\n",
      "-----------------------------\n",
      "[Done] Model saved for test at models/ppo_test\n",
      "[Train] Using NVDA_1day.csv for NVDA\n",
      "\n",
      "=== DEBUG START ===\n",
      "[DEBUG] CONFIG keys: dict_keys(['env', 'training', 'evaluation', 'logging', 'metrics'])\n",
      "[DEBUG] FEATURES in config: [{'type': 'price', 'field': 'close', 'normalize': False}, {'type': 'price', 'field': 'volume', 'normalize': False}]\n",
      "[DEBUG] DataFrame columns: ['timestamp', 'open', 'high', 'low', 'close', 'volume']\n",
      "[DEBUG] DataFrame dtypes:\n",
      " timestamp     object\n",
      "open         float64\n",
      "high         float64\n",
      "low          float64\n",
      "close        float64\n",
      "volume       float64\n",
      "dtype: object\n",
      "[DEBUG] First few rows:\n",
      "              timestamp    open    high     low   close       volume\n",
      "0  2023-01-03 05:00:00  14.851  14.996  14.096  14.315  401276580.0\n",
      "1  2023-01-04 05:00:00  14.567  14.853  14.241  14.749  431323600.0\n",
      "2  2023-01-05 05:00:00  14.491  14.564  14.148  14.265  389168110.0\n",
      "3  2023-01-06 05:00:00  14.474  15.010  14.034  14.859  405043620.0\n",
      "4  2023-01-09 05:00:00  15.284  16.056  15.141  15.628  504180560.0\n",
      "=== DEBUG END ===\n",
      "\n",
      "Using cpu device\n"
     ]
    },
    {
     "name": "stderr",
     "output_type": "stream",
     "text": [
      "/usr/local/lib/python3.10/site-packages/stable_baselines3/common/vec_env/patch_gym.py:49: UserWarning: You provided an OpenAI Gym environment. We strongly recommend transitioning to Gymnasium environments. Stable-Baselines3 is automatically wrapping your environments in a compatibility layer, which could potentially cause issues.\n",
      "  warnings.warn(\n"
     ]
    },
    {
     "name": "stdout",
     "output_type": "stream",
     "text": [
      "[Callback] Rollout finished at step 2048, Avg Reward: -0.0339, Max Reward: -0.0339\n",
      "-----------------------------\n",
      "| time/              |      |\n",
      "|    fps             | 768  |\n",
      "|    iterations      | 1    |\n",
      "|    time_elapsed    | 2    |\n",
      "|    total_timesteps | 2048 |\n",
      "-----------------------------\n",
      "[Done] Model saved for NVDA at models/ppo_NVDA\n"
     ]
    }
   ],
   "source": [
    "%run train/train_ppo.py --test"
   ]
  },
  {
   "cell_type": "code",
   "execution_count": 11,
   "id": "17c482fb",
   "metadata": {},
   "outputs": [
    {
     "name": "stdout",
     "output_type": "stream",
     "text": [
      "test_can_open_position_with_buy (tests.test_trading_env.TestTradingEnv) ... ok\n",
      "test_env_closes_gracefully (tests.test_trading_env.TestTradingEnv) ... ok\n",
      "test_episode_runs_without_crash (tests.test_trading_env.TestTradingEnv) ... ok\n",
      "test_position_close_on_reverse_action (tests.test_trading_env.TestTradingEnv) ... ok\n",
      "test_reset_output_shape_and_type (tests.test_trading_env.TestTradingEnv) ... ok\n",
      "test_reward_has_positive_and_negative_values (tests.test_trading_env.TestTradingEnv) ... Sampled rewards for sign check: [np.float64(3.5643606205120397), np.float64(-0.1696996549902184), np.float64(-0.2991745604458671), np.float64(0.24375994742160106), np.float64(-0.2845815326006057), np.float64(-1.8451414989339447), np.float64(0.44631569044208214), np.float64(-1.0869816355318305), np.float64(-0.3394365782943378), np.float64(-0.47380874011091795), np.float64(-0.37952351683221197), np.float64(-1.9414517619108225), np.float64(-0.8369944770931868), 0.0, 0.0, np.float64(-0.0017477488286754494), 0.0, 0.0, np.float64(-0.7263659835812888), np.float64(-3.0053389471421545), np.float64(-2.874320244716018), np.float64(-0.4424967560639039), np.float64(-0.38442255952949184), np.float64(0.05934347557299722), 0.0, np.float64(0.3604294613074668), np.float64(-0.11781228517477019), np.float64(0.08519960549965742), 0.0, np.float64(0.11315256405509985), np.float64(0.23084614105598114), 0.0, np.float64(-4.2517566034613), np.float64(-2.0987361696412243), np.float64(-5.020338063830349), np.float64(-1.1482752592625243), np.float64(-0.03477751460767186), np.float64(0.10096880945780926), np.float64(-0.11200612013964001), np.float64(-0.4656265395969083), np.float64(0.811408261509072), np.float64(0.41782397285620887), np.float64(0.9553626119361711), np.float64(0.7047584612976536), np.float64(0.29140785536767105), np.float64(0.34955596893884877), np.float64(-0.9207398589280728), np.float64(-4.0013842072609345), np.float64(-0.36817725300788035), np.float64(-0.04211636721683515)]\n",
      "ok\n",
      "test_reward_is_not_constant_zero (tests.test_trading_env.TestTradingEnv) ... Sampled rewards: [np.float64(-0.04595060960306939), 0.0, np.float64(0.051851282269422365), 0.0, 0.0, np.float64(-2.4164843289483326), np.float64(-1.0982971177667622), np.float64(0.22773866169813092), np.float64(0.9885963805034019), np.float64(0.8088218720107235), np.float64(-0.2355735231869784), np.float64(-0.1868640253631613), np.float64(-0.6380417878501281), np.float64(0.10522510785561254), 0.0, 0.0, 0.0, np.float64(0.5245326412425427), np.float64(6.221517422432437), np.float64(0.2216835773169943), np.float64(0.5389779508273553), 0.0, np.float64(29.72493948557016), 0.0, np.float64(-0.8378156673056911), 0.0, 0.0, np.float64(-0.49649043445830937), np.float64(0.38849134761807397), np.float64(1.6926915743159006)]\n",
      "ok\n",
      "test_single_active_position_only (tests.test_trading_env.TestTradingEnv) ... ok\n",
      "test_step_output_types (tests.test_trading_env.TestTradingEnv) ... ok\n",
      "\n",
      "----------------------------------------------------------------------\n",
      "Ran 9 tests in 0.034s\n",
      "\n",
      "OK\n"
     ]
    }
   ],
   "source": [
    "! python -m unittest tests/test_trading_env.py -v"
   ]
  },
  {
   "cell_type": "markdown",
   "id": "444222f3",
   "metadata": {},
   "source": [
    "## 🧠 Integration Test: Model Inference"
   ]
  },
  {
   "cell_type": "code",
   "execution_count": null,
   "id": "ef817a5c",
   "metadata": {},
   "outputs": [],
   "source": [
    "env = TradingEnv(config_path=CONFIG_PATH)\n",
    "model = PPO.load(os.path.join(MODEL_DIR, \"ppo_NVDA\"))\n",
    "obs = env.reset()\n",
    "for _ in range(5):\n",
    "    action, _ = model.predict(obs, deterministic=True)\n",
    "    obs, reward, done, _ = env.step(action)\n",
    "    print(f\"Action: {action}, Reward: {reward}, Done: {done}\")\n",
    "    if done:\n",
    "        obs = env.reset()\n"
   ]
  },
  {
   "cell_type": "markdown",
   "id": "ddd5b12f",
   "metadata": {},
   "source": [
    "## 📉 Integration Test: Model Evaluation (Optional)"
   ]
  },
  {
   "cell_type": "code",
   "execution_count": null,
   "id": "09e0ba0c",
   "metadata": {},
   "outputs": [],
   "source": [
    "# %run eval/evaluate.py --test  # Uncomment if evaluation script supports testing"
   ]
  }
 ],
 "metadata": {
  "kernelspec": {
   "display_name": "Python 3",
   "language": "python",
   "name": "python3"
  },
  "language_info": {
   "codemirror_mode": {
    "name": "ipython",
    "version": 3
   },
   "file_extension": ".py",
   "mimetype": "text/x-python",
   "name": "python",
   "nbconvert_exporter": "python",
   "pygments_lexer": "ipython3",
   "version": "3.10.17"
  }
 },
 "nbformat": 4,
 "nbformat_minor": 5
}
