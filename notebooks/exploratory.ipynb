{
 "cells": [
  {
   "cell_type": "code",
   "execution_count": 3,
   "id": "119de28c",
   "metadata": {},
   "outputs": [
    {
     "name": "stdout",
     "output_type": "stream",
     "text": [
      "Notebook directory: /home/jovyan/work/notebooks\n",
      "✅ Project root set to: /home/jovyan/work\n"
     ]
    }
   ],
   "source": [
    "import os\n",
    "\n",
    "# Assumes the notebook is in 'notebooks/'\n",
    "notebook_dir = os.getcwd()\n",
    "project_root = os.path.abspath(os.path.join(notebook_dir, \"..\"))\n",
    "os.chdir(project_root)\n",
    "\n",
    "print(\"Notebook directory:\", notebook_dir)\n",
    "print(\"✅ Project root set to:\", project_root)"
   ]
  },
  {
   "cell_type": "code",
   "execution_count": 4,
   "id": "98aa58f7",
   "metadata": {},
   "outputs": [
    {
     "name": "stdout",
     "output_type": "stream",
     "text": [
      "/home/jovyan/work\n"
     ]
    }
   ],
   "source": [
    "! pwd"
   ]
  }
 ],
 "metadata": {
  "kernelspec": {
   "display_name": "base",
   "language": "python",
   "name": "python3"
  },
  "language_info": {
   "codemirror_mode": {
    "name": "ipython",
    "version": 3
   },
   "file_extension": ".py",
   "mimetype": "text/x-python",
   "name": "python",
   "nbconvert_exporter": "python",
   "pygments_lexer": "ipython3",
   "version": "3.11.6"
  }
 },
 "nbformat": 4,
 "nbformat_minor": 5
}
