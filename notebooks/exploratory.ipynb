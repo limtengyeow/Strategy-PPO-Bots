{
 "cells": [
  {
   "cell_type": "code",
   "execution_count": 1,
   "id": "7c5321ac",
   "metadata": {},
   "outputs": [],
   "source": [
    "%load_ext autoreload\n",
    "%autoreload 2"
   ]
  },
  {
   "cell_type": "code",
   "execution_count": 2,
   "id": "119de28c",
   "metadata": {},
   "outputs": [
    {
     "name": "stdout",
     "output_type": "stream",
     "text": [
      "📂 Notebook directory: /workspaces/Strategy_PPO_Bots\n",
      "✅ Project root set to: /workspaces\n",
      "/workspaces/Strategy_PPO_Bots\n"
     ]
    }
   ],
   "source": [
    "## Set-up Environment\n",
    "import os\n",
    "import sys\n",
    "\n",
    "# Setup: Get notebook directory and set project root\n",
    "notebook_dir = os.getcwd()\n",
    "project_root = os.path.abspath(os.path.join(notebook_dir, \"..\"))\n",
    "os.chdir(project_root)\n",
    "\n",
    "# Add project root to Python path for absolute imports like 'env.trading_env'\n",
    "if project_root not in sys.path:\n",
    "    sys.path.append(project_root)\n",
    "\n",
    "# Print confirmation\n",
    "print(\"📂 Notebook directory:\", notebook_dir)\n",
    "print(\"✅ Project root set to:\", project_root)\n",
    "\n",
    "# Change directory to project folder (optional)\n",
    "%cd /workspaces/Strategy_PPO_Bots\n"
   ]
  },
  {
   "cell_type": "code",
   "execution_count": 3,
   "id": "98aa58f7",
   "metadata": {},
   "outputs": [
    {
     "name": "stdout",
     "output_type": "stream",
     "text": [
      "/workspaces/Strategy_PPO_Bots\n"
     ]
    }
   ],
   "source": [
    "## Check to ensure in the right directory\n",
    "! pwd"
   ]
  },
  {
   "cell_type": "code",
   "execution_count": 4,
   "id": "8b8cbfab",
   "metadata": {},
   "outputs": [
    {
     "name": "stdout",
     "output_type": "stream",
     "text": [
      "Defaulting to user installation because normal site-packages is not writeable\n",
      "Requirement already satisfied: stable-baselines3 in /usr/local/lib/python3.11/site-packages (from -r requirements.txt (line 1)) (2.6.0)\n",
      "Requirement already satisfied: shimmy>=2.0 in /usr/local/lib/python3.11/site-packages (from -r requirements.txt (line 2)) (2.0.0)\n",
      "Requirement already satisfied: gym==0.25.2 in /usr/local/lib/python3.11/site-packages (from -r requirements.txt (line 3)) (0.25.2)\n",
      "Requirement already satisfied: pandas in /usr/local/lib/python3.11/site-packages (from -r requirements.txt (line 4)) (2.2.3)\n",
      "Requirement already satisfied: numpy in /usr/local/lib/python3.11/site-packages (from -r requirements.txt (line 5)) (2.2.6)\n",
      "Requirement already satisfied: matplotlib in /usr/local/lib/python3.11/site-packages (from -r requirements.txt (line 6)) (3.10.3)\n",
      "Requirement already satisfied: mlflow in /usr/local/lib/python3.11/site-packages (from -r requirements.txt (line 7)) (2.22.0)\n",
      "Requirement already satisfied: tensorboard in /usr/local/lib/python3.11/site-packages (from -r requirements.txt (line 8)) (2.19.0)\n",
      "Requirement already satisfied: cloudpickle in /usr/local/lib/python3.11/site-packages (from -r requirements.txt (line 9)) (3.1.1)\n",
      "Requirement already satisfied: polygon-api-client in /usr/local/lib/python3.11/site-packages (from -r requirements.txt (line 10)) (1.14.5)\n",
      "Requirement already satisfied: PyYAML in /usr/local/lib/python3.11/site-packages (from -r requirements.txt (line 11)) (6.0.2)\n",
      "Requirement already satisfied: python-dotenv in /home/devuser/.local/lib/python3.11/site-packages (from -r requirements.txt (line 12)) (1.1.0)\n",
      "Requirement already satisfied: gym_notices>=0.0.4 in /usr/local/lib/python3.11/site-packages (from gym==0.25.2->-r requirements.txt (line 3)) (0.0.8)\n",
      "Requirement already satisfied: gymnasium<1.2.0,>=0.29.1 in /usr/local/lib/python3.11/site-packages (from stable-baselines3->-r requirements.txt (line 1)) (1.1.1)\n",
      "Requirement already satisfied: torch<3.0,>=2.3 in /usr/local/lib/python3.11/site-packages (from stable-baselines3->-r requirements.txt (line 1)) (2.7.0)\n",
      "Requirement already satisfied: typing-extensions>=4.3.0 in /usr/local/lib/python3.11/site-packages (from gymnasium<1.2.0,>=0.29.1->stable-baselines3->-r requirements.txt (line 1)) (4.13.2)\n",
      "Requirement already satisfied: farama-notifications>=0.0.1 in /usr/local/lib/python3.11/site-packages (from gymnasium<1.2.0,>=0.29.1->stable-baselines3->-r requirements.txt (line 1)) (0.0.4)\n",
      "Requirement already satisfied: filelock in /usr/local/lib/python3.11/site-packages (from torch<3.0,>=2.3->stable-baselines3->-r requirements.txt (line 1)) (3.18.0)\n",
      "Requirement already satisfied: sympy>=1.13.3 in /usr/local/lib/python3.11/site-packages (from torch<3.0,>=2.3->stable-baselines3->-r requirements.txt (line 1)) (1.14.0)\n",
      "Requirement already satisfied: networkx in /usr/local/lib/python3.11/site-packages (from torch<3.0,>=2.3->stable-baselines3->-r requirements.txt (line 1)) (3.4.2)\n",
      "Requirement already satisfied: jinja2 in /usr/local/lib/python3.11/site-packages (from torch<3.0,>=2.3->stable-baselines3->-r requirements.txt (line 1)) (3.1.6)\n",
      "Requirement already satisfied: fsspec in /usr/local/lib/python3.11/site-packages (from torch<3.0,>=2.3->stable-baselines3->-r requirements.txt (line 1)) (2025.5.1)\n",
      "Requirement already satisfied: python-dateutil>=2.8.2 in /usr/local/lib/python3.11/site-packages (from pandas->-r requirements.txt (line 4)) (2.9.0.post0)\n",
      "Requirement already satisfied: pytz>=2020.1 in /usr/local/lib/python3.11/site-packages (from pandas->-r requirements.txt (line 4)) (2025.2)\n",
      "Requirement already satisfied: tzdata>=2022.7 in /usr/local/lib/python3.11/site-packages (from pandas->-r requirements.txt (line 4)) (2025.2)\n",
      "Requirement already satisfied: contourpy>=1.0.1 in /usr/local/lib/python3.11/site-packages (from matplotlib->-r requirements.txt (line 6)) (1.3.2)\n",
      "Requirement already satisfied: cycler>=0.10 in /usr/local/lib/python3.11/site-packages (from matplotlib->-r requirements.txt (line 6)) (0.12.1)\n",
      "Requirement already satisfied: fonttools>=4.22.0 in /usr/local/lib/python3.11/site-packages (from matplotlib->-r requirements.txt (line 6)) (4.58.0)\n",
      "Requirement already satisfied: kiwisolver>=1.3.1 in /usr/local/lib/python3.11/site-packages (from matplotlib->-r requirements.txt (line 6)) (1.4.8)\n",
      "Requirement already satisfied: packaging>=20.0 in /usr/local/lib/python3.11/site-packages (from matplotlib->-r requirements.txt (line 6)) (24.2)\n",
      "Requirement already satisfied: pillow>=8 in /usr/local/lib/python3.11/site-packages (from matplotlib->-r requirements.txt (line 6)) (11.2.1)\n",
      "Requirement already satisfied: pyparsing>=2.3.1 in /usr/local/lib/python3.11/site-packages (from matplotlib->-r requirements.txt (line 6)) (3.2.3)\n",
      "Requirement already satisfied: mlflow-skinny==2.22.0 in /usr/local/lib/python3.11/site-packages (from mlflow->-r requirements.txt (line 7)) (2.22.0)\n",
      "Requirement already satisfied: Flask<4 in /usr/local/lib/python3.11/site-packages (from mlflow->-r requirements.txt (line 7)) (3.1.1)\n",
      "Requirement already satisfied: alembic!=1.10.0,<2 in /usr/local/lib/python3.11/site-packages (from mlflow->-r requirements.txt (line 7)) (1.16.1)\n",
      "Requirement already satisfied: docker<8,>=4.0.0 in /usr/local/lib/python3.11/site-packages (from mlflow->-r requirements.txt (line 7)) (7.1.0)\n",
      "Requirement already satisfied: graphene<4 in /usr/local/lib/python3.11/site-packages (from mlflow->-r requirements.txt (line 7)) (3.4.3)\n",
      "Requirement already satisfied: gunicorn<24 in /usr/local/lib/python3.11/site-packages (from mlflow->-r requirements.txt (line 7)) (23.0.0)\n",
      "Requirement already satisfied: markdown<4,>=3.3 in /usr/local/lib/python3.11/site-packages (from mlflow->-r requirements.txt (line 7)) (3.8)\n",
      "Requirement already satisfied: pyarrow<20,>=4.0.0 in /usr/local/lib/python3.11/site-packages (from mlflow->-r requirements.txt (line 7)) (19.0.1)\n",
      "Requirement already satisfied: scikit-learn<2 in /usr/local/lib/python3.11/site-packages (from mlflow->-r requirements.txt (line 7)) (1.6.1)\n",
      "Requirement already satisfied: scipy<2 in /usr/local/lib/python3.11/site-packages (from mlflow->-r requirements.txt (line 7)) (1.15.3)\n",
      "Requirement already satisfied: sqlalchemy<3,>=1.4.0 in /usr/local/lib/python3.11/site-packages (from mlflow->-r requirements.txt (line 7)) (2.0.41)\n",
      "Requirement already satisfied: cachetools<6,>=5.0.0 in /usr/local/lib/python3.11/site-packages (from mlflow-skinny==2.22.0->mlflow->-r requirements.txt (line 7)) (5.5.2)\n",
      "Requirement already satisfied: click<9,>=7.0 in /usr/local/lib/python3.11/site-packages (from mlflow-skinny==2.22.0->mlflow->-r requirements.txt (line 7)) (8.2.1)\n",
      "Requirement already satisfied: databricks-sdk<1,>=0.20.0 in /usr/local/lib/python3.11/site-packages (from mlflow-skinny==2.22.0->mlflow->-r requirements.txt (line 7)) (0.54.0)\n",
      "Requirement already satisfied: fastapi<1 in /usr/local/lib/python3.11/site-packages (from mlflow-skinny==2.22.0->mlflow->-r requirements.txt (line 7)) (0.115.12)\n",
      "Requirement already satisfied: gitpython<4,>=3.1.9 in /usr/local/lib/python3.11/site-packages (from mlflow-skinny==2.22.0->mlflow->-r requirements.txt (line 7)) (3.1.44)\n",
      "Requirement already satisfied: importlib_metadata!=4.7.0,<9,>=3.7.0 in /usr/local/lib/python3.11/site-packages (from mlflow-skinny==2.22.0->mlflow->-r requirements.txt (line 7)) (8.6.1)\n",
      "Requirement already satisfied: opentelemetry-api<3,>=1.9.0 in /usr/local/lib/python3.11/site-packages (from mlflow-skinny==2.22.0->mlflow->-r requirements.txt (line 7)) (1.33.1)\n",
      "Requirement already satisfied: opentelemetry-sdk<3,>=1.9.0 in /usr/local/lib/python3.11/site-packages (from mlflow-skinny==2.22.0->mlflow->-r requirements.txt (line 7)) (1.33.1)\n",
      "Requirement already satisfied: protobuf<7,>=3.12.0 in /usr/local/lib/python3.11/site-packages (from mlflow-skinny==2.22.0->mlflow->-r requirements.txt (line 7)) (6.31.0)\n",
      "Requirement already satisfied: pydantic<3,>=1.10.8 in /usr/local/lib/python3.11/site-packages (from mlflow-skinny==2.22.0->mlflow->-r requirements.txt (line 7)) (2.11.5)\n",
      "Requirement already satisfied: requests<3,>=2.17.3 in /usr/local/lib/python3.11/site-packages (from mlflow-skinny==2.22.0->mlflow->-r requirements.txt (line 7)) (2.32.3)\n",
      "Requirement already satisfied: sqlparse<1,>=0.4.0 in /usr/local/lib/python3.11/site-packages (from mlflow-skinny==2.22.0->mlflow->-r requirements.txt (line 7)) (0.5.3)\n",
      "Requirement already satisfied: uvicorn<1 in /usr/local/lib/python3.11/site-packages (from mlflow-skinny==2.22.0->mlflow->-r requirements.txt (line 7)) (0.34.2)\n",
      "Requirement already satisfied: Mako in /usr/local/lib/python3.11/site-packages (from alembic!=1.10.0,<2->mlflow->-r requirements.txt (line 7)) (1.3.10)\n",
      "Requirement already satisfied: google-auth~=2.0 in /usr/local/lib/python3.11/site-packages (from databricks-sdk<1,>=0.20.0->mlflow-skinny==2.22.0->mlflow->-r requirements.txt (line 7)) (2.40.2)\n",
      "Requirement already satisfied: urllib3>=1.26.0 in /usr/local/lib/python3.11/site-packages (from docker<8,>=4.0.0->mlflow->-r requirements.txt (line 7)) (2.4.0)\n",
      "Requirement already satisfied: starlette<0.47.0,>=0.40.0 in /usr/local/lib/python3.11/site-packages (from fastapi<1->mlflow-skinny==2.22.0->mlflow->-r requirements.txt (line 7)) (0.46.2)\n",
      "Requirement already satisfied: blinker>=1.9.0 in /usr/local/lib/python3.11/site-packages (from Flask<4->mlflow->-r requirements.txt (line 7)) (1.9.0)\n",
      "Requirement already satisfied: itsdangerous>=2.2.0 in /usr/local/lib/python3.11/site-packages (from Flask<4->mlflow->-r requirements.txt (line 7)) (2.2.0)\n",
      "Requirement already satisfied: markupsafe>=2.1.1 in /usr/local/lib/python3.11/site-packages (from Flask<4->mlflow->-r requirements.txt (line 7)) (3.0.2)\n",
      "Requirement already satisfied: werkzeug>=3.1.0 in /usr/local/lib/python3.11/site-packages (from Flask<4->mlflow->-r requirements.txt (line 7)) (3.1.3)\n",
      "Requirement already satisfied: gitdb<5,>=4.0.1 in /usr/local/lib/python3.11/site-packages (from gitpython<4,>=3.1.9->mlflow-skinny==2.22.0->mlflow->-r requirements.txt (line 7)) (4.0.12)\n",
      "Requirement already satisfied: smmap<6,>=3.0.1 in /usr/local/lib/python3.11/site-packages (from gitdb<5,>=4.0.1->gitpython<4,>=3.1.9->mlflow-skinny==2.22.0->mlflow->-r requirements.txt (line 7)) (5.0.2)\n",
      "Requirement already satisfied: pyasn1-modules>=0.2.1 in /usr/local/lib/python3.11/site-packages (from google-auth~=2.0->databricks-sdk<1,>=0.20.0->mlflow-skinny==2.22.0->mlflow->-r requirements.txt (line 7)) (0.4.2)\n",
      "Requirement already satisfied: rsa<5,>=3.1.4 in /usr/local/lib/python3.11/site-packages (from google-auth~=2.0->databricks-sdk<1,>=0.20.0->mlflow-skinny==2.22.0->mlflow->-r requirements.txt (line 7)) (4.9.1)\n",
      "Requirement already satisfied: graphql-core<3.3,>=3.1 in /usr/local/lib/python3.11/site-packages (from graphene<4->mlflow->-r requirements.txt (line 7)) (3.2.6)\n",
      "Requirement already satisfied: graphql-relay<3.3,>=3.1 in /usr/local/lib/python3.11/site-packages (from graphene<4->mlflow->-r requirements.txt (line 7)) (3.2.0)\n",
      "Requirement already satisfied: zipp>=3.20 in /usr/local/lib/python3.11/site-packages (from importlib_metadata!=4.7.0,<9,>=3.7.0->mlflow-skinny==2.22.0->mlflow->-r requirements.txt (line 7)) (3.22.0)\n",
      "Requirement already satisfied: deprecated>=1.2.6 in /usr/local/lib/python3.11/site-packages (from opentelemetry-api<3,>=1.9.0->mlflow-skinny==2.22.0->mlflow->-r requirements.txt (line 7)) (1.2.18)\n",
      "Requirement already satisfied: opentelemetry-semantic-conventions==0.54b1 in /usr/local/lib/python3.11/site-packages (from opentelemetry-sdk<3,>=1.9.0->mlflow-skinny==2.22.0->mlflow->-r requirements.txt (line 7)) (0.54b1)\n",
      "Requirement already satisfied: annotated-types>=0.6.0 in /usr/local/lib/python3.11/site-packages (from pydantic<3,>=1.10.8->mlflow-skinny==2.22.0->mlflow->-r requirements.txt (line 7)) (0.7.0)\n",
      "Requirement already satisfied: pydantic-core==2.33.2 in /usr/local/lib/python3.11/site-packages (from pydantic<3,>=1.10.8->mlflow-skinny==2.22.0->mlflow->-r requirements.txt (line 7)) (2.33.2)\n",
      "Requirement already satisfied: typing-inspection>=0.4.0 in /usr/local/lib/python3.11/site-packages (from pydantic<3,>=1.10.8->mlflow-skinny==2.22.0->mlflow->-r requirements.txt (line 7)) (0.4.1)\n",
      "Requirement already satisfied: six>=1.5 in /usr/local/lib/python3.11/site-packages (from python-dateutil>=2.8.2->pandas->-r requirements.txt (line 4)) (1.17.0)\n",
      "Requirement already satisfied: charset-normalizer<4,>=2 in /usr/local/lib/python3.11/site-packages (from requests<3,>=2.17.3->mlflow-skinny==2.22.0->mlflow->-r requirements.txt (line 7)) (3.4.2)\n",
      "Requirement already satisfied: idna<4,>=2.5 in /usr/local/lib/python3.11/site-packages (from requests<3,>=2.17.3->mlflow-skinny==2.22.0->mlflow->-r requirements.txt (line 7)) (3.10)\n",
      "Requirement already satisfied: certifi>=2017.4.17 in /usr/local/lib/python3.11/site-packages (from requests<3,>=2.17.3->mlflow-skinny==2.22.0->mlflow->-r requirements.txt (line 7)) (2025.4.26)\n",
      "Requirement already satisfied: pyasn1>=0.1.3 in /usr/local/lib/python3.11/site-packages (from rsa<5,>=3.1.4->google-auth~=2.0->databricks-sdk<1,>=0.20.0->mlflow-skinny==2.22.0->mlflow->-r requirements.txt (line 7)) (0.6.1)\n",
      "Requirement already satisfied: joblib>=1.2.0 in /usr/local/lib/python3.11/site-packages (from scikit-learn<2->mlflow->-r requirements.txt (line 7)) (1.5.1)\n",
      "Requirement already satisfied: threadpoolctl>=3.1.0 in /usr/local/lib/python3.11/site-packages (from scikit-learn<2->mlflow->-r requirements.txt (line 7)) (3.6.0)\n",
      "Requirement already satisfied: greenlet>=1 in /usr/local/lib/python3.11/site-packages (from sqlalchemy<3,>=1.4.0->mlflow->-r requirements.txt (line 7)) (3.2.2)\n",
      "Requirement already satisfied: anyio<5,>=3.6.2 in /usr/local/lib/python3.11/site-packages (from starlette<0.47.0,>=0.40.0->fastapi<1->mlflow-skinny==2.22.0->mlflow->-r requirements.txt (line 7)) (4.9.0)\n",
      "Requirement already satisfied: sniffio>=1.1 in /usr/local/lib/python3.11/site-packages (from anyio<5,>=3.6.2->starlette<0.47.0,>=0.40.0->fastapi<1->mlflow-skinny==2.22.0->mlflow->-r requirements.txt (line 7)) (1.3.1)\n",
      "Requirement already satisfied: h11>=0.8 in /usr/local/lib/python3.11/site-packages (from uvicorn<1->mlflow-skinny==2.22.0->mlflow->-r requirements.txt (line 7)) (0.16.0)\n",
      "Requirement already satisfied: absl-py>=0.4 in /usr/local/lib/python3.11/site-packages (from tensorboard->-r requirements.txt (line 8)) (2.2.2)\n",
      "Requirement already satisfied: grpcio>=1.48.2 in /usr/local/lib/python3.11/site-packages (from tensorboard->-r requirements.txt (line 8)) (1.71.0)\n",
      "Requirement already satisfied: setuptools>=41.0.0 in /usr/local/lib/python3.11/site-packages (from tensorboard->-r requirements.txt (line 8)) (65.5.1)\n",
      "Requirement already satisfied: tensorboard-data-server<0.8.0,>=0.7.0 in /usr/local/lib/python3.11/site-packages (from tensorboard->-r requirements.txt (line 8)) (0.7.2)\n",
      "Requirement already satisfied: websockets<15.0,>=10.3 in /usr/local/lib/python3.11/site-packages (from polygon-api-client->-r requirements.txt (line 10)) (14.2)\n",
      "Requirement already satisfied: wrapt<2,>=1.10 in /usr/local/lib/python3.11/site-packages (from deprecated>=1.2.6->opentelemetry-api<3,>=1.9.0->mlflow-skinny==2.22.0->mlflow->-r requirements.txt (line 7)) (1.17.2)\n",
      "Requirement already satisfied: mpmath<1.4,>=1.1.0 in /usr/local/lib/python3.11/site-packages (from sympy>=1.13.3->torch<3.0,>=2.3->stable-baselines3->-r requirements.txt (line 1)) (1.3.0)\n"
     ]
    }
   ],
   "source": [
    "## Install dependencies\n",
    "! pip install -r requirements.txt"
   ]
  },
  {
   "cell_type": "code",
   "execution_count": null,
   "id": "613f183e",
   "metadata": {},
   "outputs": [],
   "source": [
    "## Run integration test script\n",
    "#! pytest tests/integration/test_integration.py --maxfail=1 --disable-warnings -q"
   ]
  },
  {
   "cell_type": "code",
   "execution_count": 5,
   "id": "3f04b7ce",
   "metadata": {},
   "outputs": [
    {
     "name": "stdout",
     "output_type": "stream",
     "text": [
      "\n",
      "====================\n",
      "Processing Ticker: NVDA\n",
      "====================\n",
      "Found 1 non-intraday timeframe(s) to pre-compute: ['daily']\n",
      "Found 2 intraday timeframe(s) for main processing: ['1min', '5min']\n",
      "\n",
      "--- PASS 1: Pre-computing features (OBS_WINDOW not applied) ---\n",
      "  ⚙️ Pre-computing for timeframe: daily...\n",
      "    Fetching day data in 14 chunk(s)...\n",
      "  ✅ Saved pre-computed features to data/NVDA_daily_precomputed.parquet\n",
      "\n",
      "--- PASS 2: Main processing (OBS_WINDOW applied) ---\n",
      "  ⚙️ Processing timeframe: 1min...\n",
      "    Fetching minute data in 6 chunk(s)...\n",
      "  ⚙️ Processing timeframe: 5min...\n",
      "    Fetching minute data in 6 chunk(s)...\n",
      "\n",
      "--- Final Merge ---\n",
      "📉 Base timeframe determined as: 1min\n",
      "  🖇️ Merging 5min features...\n",
      "  🖇️ Merging pre-computed daily features from data/NVDA_daily_precomputed.parquet...\n",
      "🔬 No output_columns specified. Defaulting to timestamp + generated features.\n",
      "💾 Saved to data/NVDA_1min.csv\n",
      "💾 Saved to data/NVDA_1min.parquet\n",
      "✅ Finished processing for NVDA. Final file: NVDA_1min\n",
      "\n",
      "====================\n",
      "Processing Ticker: @SIM\n",
      "====================\n",
      "Recognized simulated ticker. Running simulation process...\n",
      "💾 Saved to data/SIM_bull_5min.csv\n",
      "💾 Saved to data/SIM_bull_5min.parquet\n",
      "✅ Generated: SIM_bull_5min\n"
     ]
    }
   ],
   "source": [
    "## Generate Training Data\n",
    "! python data_gen/generate_data.py"
   ]
  },
  {
   "cell_type": "code",
   "execution_count": null,
   "id": "ed5c4450",
   "metadata": {},
   "outputs": [],
   "source": [
    "## ─── Plot all 1day CSVs in data/ ─────────────────────────────────────────\n",
    "import glob\n",
    "\n",
    "import matplotlib.pyplot as plt\n",
    "import pandas as pd\n",
    "\n",
    "# 1. Grab every CSV matching *_1day.csv\n",
    "csv_files = glob.glob(\"data/*_1day.csv\")\n",
    "if not csv_files:\n",
    "    raise FileNotFoundError(\"No files found: data/*_1day.csv\")\n",
    "\n",
    "# 2. Loop and plot\n",
    "for file_path in sorted(csv_files):\n",
    "    # Load and parse time\n",
    "    df = pd.read_csv(file_path, parse_dates=[0])\n",
    "    df.set_index(df.columns[0], inplace=True)\n",
    "\n",
    "    # Extract ticker from filename\n",
    "    ticker = file_path.split(\"/\")[-1].split(\"_\")[0]\n",
    "\n",
    "    # Create the figure\n",
    "    plt.figure(figsize=(10, 4))\n",
    "    plt.plot(df.index, df[\"close\"], linewidth=1)\n",
    "    plt.title(f\"{ticker} 1-Day Close Price\")\n",
    "    plt.xlabel(\"Time\")\n",
    "    plt.ylabel(\"Close Price\")\n",
    "    plt.tight_layout()\n",
    "    plt.show()"
   ]
  },
  {
   "cell_type": "code",
   "execution_count": null,
   "id": "f341b7d8",
   "metadata": {},
   "outputs": [],
   "source": [
    "## Run Integration Test for PPO\n",
    "# %run train/train_ppo.py --test\n"
   ]
  },
  {
   "cell_type": "code",
   "execution_count": null,
   "id": "2fc37589",
   "metadata": {},
   "outputs": [],
   "source": [
    "# import torch\n",
    "\n",
    "# print(\"CUDA Available:\", torch.cuda.is_available())\n",
    "# print(\"Device:\", torch.cuda.get_device_name(0) if torch.cuda.is_available() else \"CPU\")\n"
   ]
  },
  {
   "cell_type": "code",
   "execution_count": null,
   "id": "68aebfbd",
   "metadata": {},
   "outputs": [],
   "source": [
    "# Run PPO training using files in `data/` directory\n",
    "%run train/train_ppo.py"
   ]
  },
  {
   "cell_type": "code",
   "execution_count": null,
   "id": "71c6d103",
   "metadata": {},
   "outputs": [],
   "source": [
    "#! ls ../debug_rewards.log\n"
   ]
  }
 ],
 "metadata": {
  "kernelspec": {
   "display_name": "Python 3",
   "language": "python",
   "name": "python3"
  },
  "language_info": {
   "codemirror_mode": {
    "name": "ipython",
    "version": 3
   },
   "file_extension": ".py",
   "mimetype": "text/x-python",
   "name": "python",
   "nbconvert_exporter": "python",
   "pygments_lexer": "ipython3",
   "version": "3.11.12"
  }
 },
 "nbformat": 4,
 "nbformat_minor": 5
}
