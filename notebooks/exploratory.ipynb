{
 "cells": [
  {
   "cell_type": "code",
   "execution_count": 1,
   "id": "119de28c",
   "metadata": {},
   "outputs": [
    {
     "name": "stdout",
     "output_type": "stream",
     "text": [
      "📂 Notebook directory: /workspaces/Strategy_PPO_Bots\n",
      "✅ Project root set to: /workspaces\n",
      "/workspaces/Strategy_PPO_Bots\n"
     ]
    }
   ],
   "source": [
    "## Set-up Environment\n",
    "import os\n",
    "import sys\n",
    "\n",
    "# Setup: Get notebook directory and set project root\n",
    "notebook_dir = os.getcwd()\n",
    "project_root = os.path.abspath(os.path.join(notebook_dir, \"..\"))\n",
    "os.chdir(project_root)\n",
    "\n",
    "# Add project root to Python path for absolute imports like 'env.trading_env'\n",
    "if project_root not in sys.path:\n",
    "    sys.path.append(project_root)\n",
    "\n",
    "# Print confirmation\n",
    "print(\"📂 Notebook directory:\", notebook_dir)\n",
    "print(\"✅ Project root set to:\", project_root)\n",
    "\n",
    "# Change directory to project folder (optional)\n",
    "%cd /workspaces/Strategy_PPO_Bots\n"
   ]
  },
  {
   "cell_type": "code",
   "execution_count": 2,
   "id": "98aa58f7",
   "metadata": {},
   "outputs": [
    {
     "name": "stdout",
     "output_type": "stream",
     "text": [
      "/workspaces/Strategy_PPO_Bots\n"
     ]
    }
   ],
   "source": [
    "## Check to ensure in the right directory\n",
    "! pwd"
   ]
  },
  {
   "cell_type": "code",
   "execution_count": 3,
   "id": "8b8cbfab",
   "metadata": {},
   "outputs": [
    {
     "name": "stdout",
     "output_type": "stream",
     "text": [
      "Defaulting to user installation because normal site-packages is not writeable\n",
      "Requirement already satisfied: stable-baselines3 in /usr/local/lib/python3.11/site-packages (from -r requirements.txt (line 1)) (2.6.0)\n",
      "Requirement already satisfied: shimmy>=2.0 in /usr/local/lib/python3.11/site-packages (from -r requirements.txt (line 2)) (2.0.0)\n",
      "Requirement already satisfied: gym==0.25.2 in /usr/local/lib/python3.11/site-packages (from -r requirements.txt (line 3)) (0.25.2)\n",
      "Requirement already satisfied: pandas in /usr/local/lib/python3.11/site-packages (from -r requirements.txt (line 4)) (2.2.3)\n",
      "Requirement already satisfied: numpy in /usr/local/lib/python3.11/site-packages (from -r requirements.txt (line 5)) (2.2.6)\n",
      "Requirement already satisfied: matplotlib in /usr/local/lib/python3.11/site-packages (from -r requirements.txt (line 6)) (3.10.3)\n",
      "Requirement already satisfied: mlflow in /usr/local/lib/python3.11/site-packages (from -r requirements.txt (line 7)) (2.22.0)\n",
      "Requirement already satisfied: tensorboard in /usr/local/lib/python3.11/site-packages (from -r requirements.txt (line 8)) (2.19.0)\n",
      "Requirement already satisfied: cloudpickle in /usr/local/lib/python3.11/site-packages (from -r requirements.txt (line 9)) (3.1.1)\n",
      "Requirement already satisfied: polygon-api-client in /usr/local/lib/python3.11/site-packages (from -r requirements.txt (line 10)) (1.14.5)\n",
      "Requirement already satisfied: gym_notices>=0.0.4 in /usr/local/lib/python3.11/site-packages (from gym==0.25.2->-r requirements.txt (line 3)) (0.0.8)\n",
      "Requirement already satisfied: gymnasium<1.2.0,>=0.29.1 in /usr/local/lib/python3.11/site-packages (from stable-baselines3->-r requirements.txt (line 1)) (1.1.1)\n",
      "Requirement already satisfied: torch<3.0,>=2.3 in /usr/local/lib/python3.11/site-packages (from stable-baselines3->-r requirements.txt (line 1)) (2.7.0)\n",
      "Requirement already satisfied: typing-extensions>=4.3.0 in /usr/local/lib/python3.11/site-packages (from gymnasium<1.2.0,>=0.29.1->stable-baselines3->-r requirements.txt (line 1)) (4.13.2)\n",
      "Requirement already satisfied: farama-notifications>=0.0.1 in /usr/local/lib/python3.11/site-packages (from gymnasium<1.2.0,>=0.29.1->stable-baselines3->-r requirements.txt (line 1)) (0.0.4)\n",
      "Requirement already satisfied: filelock in /usr/local/lib/python3.11/site-packages (from torch<3.0,>=2.3->stable-baselines3->-r requirements.txt (line 1)) (3.18.0)\n",
      "Requirement already satisfied: sympy>=1.13.3 in /usr/local/lib/python3.11/site-packages (from torch<3.0,>=2.3->stable-baselines3->-r requirements.txt (line 1)) (1.14.0)\n",
      "Requirement already satisfied: networkx in /usr/local/lib/python3.11/site-packages (from torch<3.0,>=2.3->stable-baselines3->-r requirements.txt (line 1)) (3.4.2)\n",
      "Requirement already satisfied: jinja2 in /usr/local/lib/python3.11/site-packages (from torch<3.0,>=2.3->stable-baselines3->-r requirements.txt (line 1)) (3.1.6)\n",
      "Requirement already satisfied: fsspec in /usr/local/lib/python3.11/site-packages (from torch<3.0,>=2.3->stable-baselines3->-r requirements.txt (line 1)) (2025.5.1)\n",
      "Requirement already satisfied: python-dateutil>=2.8.2 in /usr/local/lib/python3.11/site-packages (from pandas->-r requirements.txt (line 4)) (2.9.0.post0)\n",
      "Requirement already satisfied: pytz>=2020.1 in /usr/local/lib/python3.11/site-packages (from pandas->-r requirements.txt (line 4)) (2025.2)\n",
      "Requirement already satisfied: tzdata>=2022.7 in /usr/local/lib/python3.11/site-packages (from pandas->-r requirements.txt (line 4)) (2025.2)\n",
      "Requirement already satisfied: contourpy>=1.0.1 in /usr/local/lib/python3.11/site-packages (from matplotlib->-r requirements.txt (line 6)) (1.3.2)\n",
      "Requirement already satisfied: cycler>=0.10 in /usr/local/lib/python3.11/site-packages (from matplotlib->-r requirements.txt (line 6)) (0.12.1)\n",
      "Requirement already satisfied: fonttools>=4.22.0 in /usr/local/lib/python3.11/site-packages (from matplotlib->-r requirements.txt (line 6)) (4.58.0)\n",
      "Requirement already satisfied: kiwisolver>=1.3.1 in /usr/local/lib/python3.11/site-packages (from matplotlib->-r requirements.txt (line 6)) (1.4.8)\n",
      "Requirement already satisfied: packaging>=20.0 in /usr/local/lib/python3.11/site-packages (from matplotlib->-r requirements.txt (line 6)) (24.2)\n",
      "Requirement already satisfied: pillow>=8 in /usr/local/lib/python3.11/site-packages (from matplotlib->-r requirements.txt (line 6)) (11.2.1)\n",
      "Requirement already satisfied: pyparsing>=2.3.1 in /usr/local/lib/python3.11/site-packages (from matplotlib->-r requirements.txt (line 6)) (3.2.3)\n",
      "Requirement already satisfied: mlflow-skinny==2.22.0 in /usr/local/lib/python3.11/site-packages (from mlflow->-r requirements.txt (line 7)) (2.22.0)\n",
      "Requirement already satisfied: Flask<4 in /usr/local/lib/python3.11/site-packages (from mlflow->-r requirements.txt (line 7)) (3.1.1)\n",
      "Requirement already satisfied: alembic!=1.10.0,<2 in /usr/local/lib/python3.11/site-packages (from mlflow->-r requirements.txt (line 7)) (1.16.1)\n",
      "Requirement already satisfied: docker<8,>=4.0.0 in /usr/local/lib/python3.11/site-packages (from mlflow->-r requirements.txt (line 7)) (7.1.0)\n",
      "Requirement already satisfied: graphene<4 in /usr/local/lib/python3.11/site-packages (from mlflow->-r requirements.txt (line 7)) (3.4.3)\n",
      "Requirement already satisfied: gunicorn<24 in /usr/local/lib/python3.11/site-packages (from mlflow->-r requirements.txt (line 7)) (23.0.0)\n",
      "Requirement already satisfied: markdown<4,>=3.3 in /usr/local/lib/python3.11/site-packages (from mlflow->-r requirements.txt (line 7)) (3.8)\n",
      "Requirement already satisfied: pyarrow<20,>=4.0.0 in /usr/local/lib/python3.11/site-packages (from mlflow->-r requirements.txt (line 7)) (19.0.1)\n",
      "Requirement already satisfied: scikit-learn<2 in /usr/local/lib/python3.11/site-packages (from mlflow->-r requirements.txt (line 7)) (1.6.1)\n",
      "Requirement already satisfied: scipy<2 in /usr/local/lib/python3.11/site-packages (from mlflow->-r requirements.txt (line 7)) (1.15.3)\n",
      "Requirement already satisfied: sqlalchemy<3,>=1.4.0 in /usr/local/lib/python3.11/site-packages (from mlflow->-r requirements.txt (line 7)) (2.0.41)\n",
      "Requirement already satisfied: cachetools<6,>=5.0.0 in /usr/local/lib/python3.11/site-packages (from mlflow-skinny==2.22.0->mlflow->-r requirements.txt (line 7)) (5.5.2)\n",
      "Requirement already satisfied: click<9,>=7.0 in /usr/local/lib/python3.11/site-packages (from mlflow-skinny==2.22.0->mlflow->-r requirements.txt (line 7)) (8.2.1)\n",
      "Requirement already satisfied: databricks-sdk<1,>=0.20.0 in /usr/local/lib/python3.11/site-packages (from mlflow-skinny==2.22.0->mlflow->-r requirements.txt (line 7)) (0.54.0)\n",
      "Requirement already satisfied: fastapi<1 in /usr/local/lib/python3.11/site-packages (from mlflow-skinny==2.22.0->mlflow->-r requirements.txt (line 7)) (0.115.12)\n",
      "Requirement already satisfied: gitpython<4,>=3.1.9 in /usr/local/lib/python3.11/site-packages (from mlflow-skinny==2.22.0->mlflow->-r requirements.txt (line 7)) (3.1.44)\n",
      "Requirement already satisfied: importlib_metadata!=4.7.0,<9,>=3.7.0 in /usr/local/lib/python3.11/site-packages (from mlflow-skinny==2.22.0->mlflow->-r requirements.txt (line 7)) (8.6.1)\n",
      "Requirement already satisfied: opentelemetry-api<3,>=1.9.0 in /usr/local/lib/python3.11/site-packages (from mlflow-skinny==2.22.0->mlflow->-r requirements.txt (line 7)) (1.33.1)\n",
      "Requirement already satisfied: opentelemetry-sdk<3,>=1.9.0 in /usr/local/lib/python3.11/site-packages (from mlflow-skinny==2.22.0->mlflow->-r requirements.txt (line 7)) (1.33.1)\n",
      "Requirement already satisfied: protobuf<7,>=3.12.0 in /usr/local/lib/python3.11/site-packages (from mlflow-skinny==2.22.0->mlflow->-r requirements.txt (line 7)) (6.31.0)\n",
      "Requirement already satisfied: pydantic<3,>=1.10.8 in /usr/local/lib/python3.11/site-packages (from mlflow-skinny==2.22.0->mlflow->-r requirements.txt (line 7)) (2.11.5)\n",
      "Requirement already satisfied: pyyaml<7,>=5.1 in /usr/local/lib/python3.11/site-packages (from mlflow-skinny==2.22.0->mlflow->-r requirements.txt (line 7)) (6.0.2)\n",
      "Requirement already satisfied: requests<3,>=2.17.3 in /usr/local/lib/python3.11/site-packages (from mlflow-skinny==2.22.0->mlflow->-r requirements.txt (line 7)) (2.32.3)\n",
      "Requirement already satisfied: sqlparse<1,>=0.4.0 in /usr/local/lib/python3.11/site-packages (from mlflow-skinny==2.22.0->mlflow->-r requirements.txt (line 7)) (0.5.3)\n",
      "Requirement already satisfied: uvicorn<1 in /usr/local/lib/python3.11/site-packages (from mlflow-skinny==2.22.0->mlflow->-r requirements.txt (line 7)) (0.34.2)\n",
      "Requirement already satisfied: Mako in /usr/local/lib/python3.11/site-packages (from alembic!=1.10.0,<2->mlflow->-r requirements.txt (line 7)) (1.3.10)\n",
      "Requirement already satisfied: google-auth~=2.0 in /usr/local/lib/python3.11/site-packages (from databricks-sdk<1,>=0.20.0->mlflow-skinny==2.22.0->mlflow->-r requirements.txt (line 7)) (2.40.2)\n",
      "Requirement already satisfied: urllib3>=1.26.0 in /usr/local/lib/python3.11/site-packages (from docker<8,>=4.0.0->mlflow->-r requirements.txt (line 7)) (2.4.0)\n",
      "Requirement already satisfied: starlette<0.47.0,>=0.40.0 in /usr/local/lib/python3.11/site-packages (from fastapi<1->mlflow-skinny==2.22.0->mlflow->-r requirements.txt (line 7)) (0.46.2)\n",
      "Requirement already satisfied: blinker>=1.9.0 in /usr/local/lib/python3.11/site-packages (from Flask<4->mlflow->-r requirements.txt (line 7)) (1.9.0)\n",
      "Requirement already satisfied: itsdangerous>=2.2.0 in /usr/local/lib/python3.11/site-packages (from Flask<4->mlflow->-r requirements.txt (line 7)) (2.2.0)\n",
      "Requirement already satisfied: markupsafe>=2.1.1 in /usr/local/lib/python3.11/site-packages (from Flask<4->mlflow->-r requirements.txt (line 7)) (3.0.2)\n",
      "Requirement already satisfied: werkzeug>=3.1.0 in /usr/local/lib/python3.11/site-packages (from Flask<4->mlflow->-r requirements.txt (line 7)) (3.1.3)\n",
      "Requirement already satisfied: gitdb<5,>=4.0.1 in /usr/local/lib/python3.11/site-packages (from gitpython<4,>=3.1.9->mlflow-skinny==2.22.0->mlflow->-r requirements.txt (line 7)) (4.0.12)\n",
      "Requirement already satisfied: smmap<6,>=3.0.1 in /usr/local/lib/python3.11/site-packages (from gitdb<5,>=4.0.1->gitpython<4,>=3.1.9->mlflow-skinny==2.22.0->mlflow->-r requirements.txt (line 7)) (5.0.2)\n",
      "Requirement already satisfied: pyasn1-modules>=0.2.1 in /usr/local/lib/python3.11/site-packages (from google-auth~=2.0->databricks-sdk<1,>=0.20.0->mlflow-skinny==2.22.0->mlflow->-r requirements.txt (line 7)) (0.4.2)\n",
      "Requirement already satisfied: rsa<5,>=3.1.4 in /usr/local/lib/python3.11/site-packages (from google-auth~=2.0->databricks-sdk<1,>=0.20.0->mlflow-skinny==2.22.0->mlflow->-r requirements.txt (line 7)) (4.9.1)\n",
      "Requirement already satisfied: graphql-core<3.3,>=3.1 in /usr/local/lib/python3.11/site-packages (from graphene<4->mlflow->-r requirements.txt (line 7)) (3.2.6)\n",
      "Requirement already satisfied: graphql-relay<3.3,>=3.1 in /usr/local/lib/python3.11/site-packages (from graphene<4->mlflow->-r requirements.txt (line 7)) (3.2.0)\n",
      "Requirement already satisfied: zipp>=3.20 in /usr/local/lib/python3.11/site-packages (from importlib_metadata!=4.7.0,<9,>=3.7.0->mlflow-skinny==2.22.0->mlflow->-r requirements.txt (line 7)) (3.22.0)\n",
      "Requirement already satisfied: deprecated>=1.2.6 in /usr/local/lib/python3.11/site-packages (from opentelemetry-api<3,>=1.9.0->mlflow-skinny==2.22.0->mlflow->-r requirements.txt (line 7)) (1.2.18)\n",
      "Requirement already satisfied: opentelemetry-semantic-conventions==0.54b1 in /usr/local/lib/python3.11/site-packages (from opentelemetry-sdk<3,>=1.9.0->mlflow-skinny==2.22.0->mlflow->-r requirements.txt (line 7)) (0.54b1)\n",
      "Requirement already satisfied: annotated-types>=0.6.0 in /usr/local/lib/python3.11/site-packages (from pydantic<3,>=1.10.8->mlflow-skinny==2.22.0->mlflow->-r requirements.txt (line 7)) (0.7.0)\n",
      "Requirement already satisfied: pydantic-core==2.33.2 in /usr/local/lib/python3.11/site-packages (from pydantic<3,>=1.10.8->mlflow-skinny==2.22.0->mlflow->-r requirements.txt (line 7)) (2.33.2)\n",
      "Requirement already satisfied: typing-inspection>=0.4.0 in /usr/local/lib/python3.11/site-packages (from pydantic<3,>=1.10.8->mlflow-skinny==2.22.0->mlflow->-r requirements.txt (line 7)) (0.4.1)\n",
      "Requirement already satisfied: six>=1.5 in /usr/local/lib/python3.11/site-packages (from python-dateutil>=2.8.2->pandas->-r requirements.txt (line 4)) (1.17.0)\n",
      "Requirement already satisfied: charset-normalizer<4,>=2 in /usr/local/lib/python3.11/site-packages (from requests<3,>=2.17.3->mlflow-skinny==2.22.0->mlflow->-r requirements.txt (line 7)) (3.4.2)\n",
      "Requirement already satisfied: idna<4,>=2.5 in /usr/local/lib/python3.11/site-packages (from requests<3,>=2.17.3->mlflow-skinny==2.22.0->mlflow->-r requirements.txt (line 7)) (3.10)\n",
      "Requirement already satisfied: certifi>=2017.4.17 in /usr/local/lib/python3.11/site-packages (from requests<3,>=2.17.3->mlflow-skinny==2.22.0->mlflow->-r requirements.txt (line 7)) (2025.4.26)\n",
      "Requirement already satisfied: pyasn1>=0.1.3 in /usr/local/lib/python3.11/site-packages (from rsa<5,>=3.1.4->google-auth~=2.0->databricks-sdk<1,>=0.20.0->mlflow-skinny==2.22.0->mlflow->-r requirements.txt (line 7)) (0.6.1)\n",
      "Requirement already satisfied: joblib>=1.2.0 in /usr/local/lib/python3.11/site-packages (from scikit-learn<2->mlflow->-r requirements.txt (line 7)) (1.5.1)\n",
      "Requirement already satisfied: threadpoolctl>=3.1.0 in /usr/local/lib/python3.11/site-packages (from scikit-learn<2->mlflow->-r requirements.txt (line 7)) (3.6.0)\n",
      "Requirement already satisfied: greenlet>=1 in /usr/local/lib/python3.11/site-packages (from sqlalchemy<3,>=1.4.0->mlflow->-r requirements.txt (line 7)) (3.2.2)\n",
      "Requirement already satisfied: anyio<5,>=3.6.2 in /usr/local/lib/python3.11/site-packages (from starlette<0.47.0,>=0.40.0->fastapi<1->mlflow-skinny==2.22.0->mlflow->-r requirements.txt (line 7)) (4.9.0)\n",
      "Requirement already satisfied: sniffio>=1.1 in /usr/local/lib/python3.11/site-packages (from anyio<5,>=3.6.2->starlette<0.47.0,>=0.40.0->fastapi<1->mlflow-skinny==2.22.0->mlflow->-r requirements.txt (line 7)) (1.3.1)\n",
      "Requirement already satisfied: h11>=0.8 in /usr/local/lib/python3.11/site-packages (from uvicorn<1->mlflow-skinny==2.22.0->mlflow->-r requirements.txt (line 7)) (0.16.0)\n",
      "Requirement already satisfied: absl-py>=0.4 in /usr/local/lib/python3.11/site-packages (from tensorboard->-r requirements.txt (line 8)) (2.2.2)\n",
      "Requirement already satisfied: grpcio>=1.48.2 in /usr/local/lib/python3.11/site-packages (from tensorboard->-r requirements.txt (line 8)) (1.71.0)\n",
      "Requirement already satisfied: setuptools>=41.0.0 in /usr/local/lib/python3.11/site-packages (from tensorboard->-r requirements.txt (line 8)) (65.5.1)\n",
      "Requirement already satisfied: tensorboard-data-server<0.8.0,>=0.7.0 in /usr/local/lib/python3.11/site-packages (from tensorboard->-r requirements.txt (line 8)) (0.7.2)\n",
      "Requirement already satisfied: websockets<15.0,>=10.3 in /usr/local/lib/python3.11/site-packages (from polygon-api-client->-r requirements.txt (line 10)) (14.2)\n",
      "Requirement already satisfied: wrapt<2,>=1.10 in /usr/local/lib/python3.11/site-packages (from deprecated>=1.2.6->opentelemetry-api<3,>=1.9.0->mlflow-skinny==2.22.0->mlflow->-r requirements.txt (line 7)) (1.17.2)\n",
      "Requirement already satisfied: mpmath<1.4,>=1.1.0 in /usr/local/lib/python3.11/site-packages (from sympy>=1.13.3->torch<3.0,>=2.3->stable-baselines3->-r requirements.txt (line 1)) (1.3.0)\n"
     ]
    }
   ],
   "source": [
    "## Install dependencies\n",
    "! pip install -r requirements.txt"
   ]
  },
  {
   "cell_type": "code",
   "execution_count": 4,
   "id": "613f183e",
   "metadata": {},
   "outputs": [],
   "source": [
    "## Run integration test script\n",
    "#! pytest tests/integration/test_integration.py --maxfail=1 --disable-warnings -q"
   ]
  },
  {
   "cell_type": "code",
   "execution_count": 6,
   "id": "3f04b7ce",
   "metadata": {},
   "outputs": [
    {
     "name": "stdout",
     "output_type": "stream",
     "text": [
      "Saved CSV: data/AAPL_5minute.csv\n",
      "Saved Parquet: data/AAPL_5minute.parquet\n",
      "Saved CSV: data/AAPL_1day.csv\n",
      "Saved Parquet: data/AAPL_1day.parquet\n",
      "Saved CSV: data/AAPL_1week.csv\n",
      "Saved Parquet: data/AAPL_1week.parquet\n"
     ]
    }
   ],
   "source": [
    "## Generate Training Data\n",
    "! python data_gen/generate_data.py"
   ]
  },
  {
   "cell_type": "code",
   "execution_count": 7,
   "id": "ed5c4450",
   "metadata": {},
   "outputs": [
    {
     "data": {
      "image/png": "[encoded data removed]",
      "text/plain": [
       "<Figure size 1000x400 with 1 Axes>"
      ]
     },
     "metadata": {},
     "output_type": "display_data"
    }
   ],
   "source": [
    "## ─── Plot all 1day CSVs in data/ ─────────────────────────────────────────\n",
    "import glob\n",
    "\n",
    "import matplotlib.pyplot as plt\n",
    "import pandas as pd\n",
    "\n",
    "# 1. Grab every CSV matching *_1day.csv\n",
    "csv_files = glob.glob(\"data/*_1day.csv\")\n",
    "if not csv_files:\n",
    "    raise FileNotFoundError(\"No files found: data/*_1day.csv\")\n",
    "\n",
    "# 2. Loop and plot\n",
    "for file_path in sorted(csv_files):\n",
    "    # Load and parse time\n",
    "    df = pd.read_csv(file_path, parse_dates=[0])\n",
    "    df.set_index(df.columns[0], inplace=True)\n",
    "\n",
    "    # Extract ticker from filename\n",
    "    ticker = file_path.split(\"/\")[-1].split(\"_\")[0]\n",
    "\n",
    "    # Create the figure\n",
    "    plt.figure(figsize=(10, 4))\n",
    "    plt.plot(df.index, df[\"close\"], linewidth=1)\n",
    "    plt.title(f\"{ticker} 1-Day Close Price\")\n",
    "    plt.xlabel(\"Time\")\n",
    "    plt.ylabel(\"Close Price\")\n",
    "    plt.tight_layout()\n",
    "    plt.show()"
   ]
  },
  {
   "cell_type": "code",
   "execution_count": 7,
   "id": "f341b7d8",
   "metadata": {},
   "outputs": [],
   "source": [
    "## Run Integration Test for PPO\n",
    "# %run train/train_ppo.py --test\n"
   ]
  },
  {
   "cell_type": "code",
   "execution_count": 8,
   "id": "2fc37589",
   "metadata": {},
   "outputs": [
    {
     "name": "stdout",
     "output_type": "stream",
     "text": [
      "CUDA Available: False\n",
      "Device: CPU\n"
     ]
    }
   ],
   "source": [
    "import torch\n",
    "\n",
    "print(\"CUDA Available:\", torch.cuda.is_available())\n",
    "print(\"Device:\", torch.cuda.get_device_name(0) if torch.cuda.is_available() else \"CPU\")\n"
   ]
  },
  {
   "cell_type": "code",
   "execution_count": 9,
   "id": "68aebfbd",
   "metadata": {},
   "outputs": [
    {
     "name": "stdout",
     "output_type": "stream",
     "text": [
      "[Seed] Using seed: 42\n",
      "[Train] Using AAPL_5minute.csv for AAPL\n",
      "\n",
      "=== DEBUG: Data Summary ===\n",
      "[Shape] Rows: 11949 Columns: 6\n",
      "[Columns] ['timestamp', 'open', 'high', 'low', 'close', 'volume']\n",
      "\n",
      "[NaN counts per column]\n",
      "timestamp    0\n",
      "open         0\n",
      "high         0\n",
      "low          0\n",
      "close        0\n",
      "volume       0\n",
      "dtype: int64\n",
      "\n",
      "[First 30 rows]\n",
      "              timestamp    open    high     low   close   volume\n",
      "0   2023-01-03 09:00:00  130.28  131.46  130.28  131.46  28978.0\n",
      "1   2023-01-03 09:05:00  131.36  131.44  131.00  131.13  30130.0\n",
      "2   2023-01-03 09:10:00  131.19  131.35  131.19  131.22   7838.0\n",
      "3   2023-01-03 09:15:00  131.21  131.32  131.09  131.10  14795.0\n",
      "4   2023-01-03 09:20:00  131.01  131.13  130.95  131.13  19138.0\n",
      "5   2023-01-03 09:25:00  131.14  131.14  130.90  130.90   4796.0\n",
      "6   2023-01-03 09:30:00  130.92  130.97  130.90  130.94   6731.0\n",
      "7   2023-01-03 09:40:00  131.02  131.24  131.02  131.15  11158.0\n",
      "8   2023-01-03 09:45:00  131.22  131.30  131.17  131.30  10712.0\n",
      "9   2023-01-03 09:50:00  131.30  131.30  131.17  131.30   1732.0\n",
      "10  2023-01-03 09:55:00  131.23  131.30  131.23  131.30   7675.0\n",
      "11  2023-01-03 10:00:00  131.40  131.40  131.25  131.26   3382.0\n",
      "12  2023-01-03 10:05:00  131.23  131.29  131.15  131.24   6240.0\n",
      "13  2023-01-03 10:10:00  131.20  131.20  131.01  131.13   2807.0\n",
      "14  2023-01-03 10:15:00  131.05  131.05  130.93  130.93   4052.0\n",
      "15  2023-01-03 10:20:00  130.93  130.93  130.88  130.88   4698.0\n",
      "16  2023-01-03 10:25:00  130.84  130.92  130.80  130.80  12450.0\n",
      "17  2023-01-03 10:30:00  130.80  130.80  130.80  130.80    242.0\n",
      "18  2023-01-03 10:40:00  130.88  131.02  130.87  131.00   5214.0\n",
      "19  2023-01-03 10:45:00  131.05  131.05  131.02  131.04   2097.0\n",
      "20  2023-01-03 10:50:00  131.00  131.00  131.00  131.00    526.0\n",
      "21  2023-01-03 10:55:00  130.99  131.00  130.99  131.00   1145.0\n",
      "22  2023-01-03 11:00:00  130.91  130.95  130.80  130.90   3474.0\n",
      "23  2023-01-03 11:05:00  130.88  130.90  130.80  130.80   4876.0\n",
      "24  2023-01-03 11:10:00  130.80  130.80  130.71  130.75   1847.0\n",
      "25  2023-01-03 11:15:00  130.75  130.89  130.75  130.88   2269.0\n",
      "26  2023-01-03 11:20:00  130.83  130.85  130.83  130.85   1257.0\n",
      "27  2023-01-03 11:25:00  130.87  130.90  130.79  130.79   1142.0\n",
      "28  2023-01-03 11:30:00  130.90  131.25  130.83  130.95  15866.0\n",
      "29  2023-01-03 11:35:00  130.91  130.91  130.88  130.88   1641.0\n",
      "\n",
      "[Stats for key features]\n",
      "              close          open          high           low        volume\n",
      "count  11949.000000  11949.000000  11949.000000  11949.000000  1.194900e+04\n",
      "mean     147.649524    147.647352    147.762927    147.532463  3.234697e+05\n",
      "std        9.973648      9.972523      9.968792      9.976677  5.305452e+05\n",
      "min      124.230000    124.235000    124.300000    124.170000  1.010000e+02\n",
      "25%      142.270000    142.260000    142.390000    142.140000  3.636000e+03\n",
      "50%      150.060000    150.050000    150.235000    149.880000  2.717700e+04\n",
      "75%      154.100000    154.100000    154.220000    154.000000  5.188820e+05\n",
      "max      167.000000    166.950000    167.000000    166.950000  1.716510e+07\n",
      "=== DEBUG END ===\n",
      "\n",
      "\n",
      "=== DEBUG START ===\n",
      "[DEBUG] CONFIG keys: dict_keys(['env', 'data', 'features', 'actions', 'model', 'rewards', 'training', 'evaluation', 'logging', 'metrics', 'DEBUG'])\n",
      "[DEBUG] FEATURES in config: [{'type': 'price', 'field': 'close', 'normalize': True, 'method': 'zscore'}, {'type': 'price', 'field': 'volume', 'normalize': True, 'method': 'rolling_zscore', 'window': 30}, {'type': 'indicator', 'field': 'vwap', 'normalize': True, 'method': 'zscore'}, {'type': 'indicator', 'field': 'ema', 'source': 'close', 'window': 10, 'normalize': True, 'method': 'zscore'}, {'type': 'indicator', 'field': 'ema', 'source': 'close', 'window': 20, 'normalize': True, 'method': 'zscore'}, {'type': 'indicator', 'field': 'rsi', 'source': 'close', 'window': 14, 'normalize': True, 'method': 'zscore'}, {'type': 'indicator', 'field': 'atr', 'window': 14, 'normalize': True, 'method': 'zscore'}]\n",
      "[DEBUG] DataFrame columns: ['timestamp', 'open', 'high', 'low', 'close', 'volume']\n",
      "[DEBUG] DataFrame dtypes:\n",
      " timestamp     object\n",
      "open         float64\n",
      "high         float64\n",
      "low          float64\n",
      "close        float64\n",
      "volume       float64\n",
      "dtype: object\n",
      "[DEBUG] First few rows:\n",
      "              timestamp    open    high     low   close   volume\n",
      "0  2023-01-03 09:00:00  130.28  131.46  130.28  131.46  28978.0\n",
      "1  2023-01-03 09:05:00  131.36  131.44  131.00  131.13  30130.0\n",
      "2  2023-01-03 09:10:00  131.19  131.35  131.19  131.22   7838.0\n",
      "3  2023-01-03 09:15:00  131.21  131.32  131.09  131.10  14795.0\n",
      "4  2023-01-03 09:20:00  131.01  131.13  130.95  131.13  19138.0\n",
      "=== DEBUG END ===\n",
      "\n",
      "[NORMALIZE:zscore] close mean=147.6495, std=9.9736\n",
      "[NORMALIZE:rolling_zscore] volume with window=30\n",
      "[DEBUG:rolling_zscore] volume - first 30 rows:\n",
      "0     0.000000\n",
      "1     0.000000\n",
      "2     0.000000\n",
      "3     0.000000\n",
      "4     0.000000\n",
      "5     0.000000\n",
      "6     0.000000\n",
      "7     0.000000\n",
      "8     0.000000\n",
      "9     0.000000\n",
      "10    0.000000\n",
      "11    0.000000\n",
      "12    0.000000\n",
      "13    0.000000\n",
      "14    0.000000\n",
      "15    0.000000\n",
      "16    0.000000\n",
      "17    0.000000\n",
      "18    0.000000\n",
      "19    0.000000\n",
      "20    0.000000\n",
      "21    0.000000\n",
      "22    0.000000\n",
      "23    0.000000\n",
      "24    0.000000\n",
      "25    0.000000\n",
      "26    0.000000\n",
      "27    0.000000\n",
      "28    0.000000\n",
      "29   -0.727481\n",
      "[DEBUG:rolling_std] volume - first 30 rows:\n",
      "0              NaN\n",
      "1       814.587012\n",
      "2     12550.962566\n",
      "3     10915.888767\n",
      "4      9471.221790\n",
      "5     10544.490272\n",
      "6     10467.593850\n",
      "7      9844.736636\n",
      "8      9343.101333\n",
      "9      9746.046490\n",
      "10     9416.961415\n",
      "11     9403.515314\n",
      "12     9156.458835\n",
      "13     9119.143827\n",
      "14     8976.550330\n",
      "15     8800.072999\n",
      "16     8536.517849\n",
      "17     8622.765326\n",
      "18     8447.454727\n",
      "19     8392.438858\n",
      "20     8398.212383\n",
      "21     8357.907279\n",
      "22     8232.162311\n",
      "23     8080.813811\n",
      "24     8009.549539\n",
      "25     7924.207226\n",
      "26     7867.243555\n",
      "27     7810.726012\n",
      "28     7837.250340\n",
      "29     7774.677002\n",
      "[INDICATOR] vwap from close, normalized=True method=zscore\n",
      "[INDICATOR] ema_10_close from close, normalized=True method=zscore\n",
      "[INDICATOR] ema_20_close from close, normalized=True method=zscore\n"
     ]
    },
    {
     "name": "stderr",
     "output_type": "stream",
     "text": [
      "/usr/local/lib/python3.11/site-packages/pydantic/_internal/_config.py:323: PydanticDeprecatedSince20: Support for class-based `config` is deprecated, use ConfigDict instead. Deprecated in Pydantic V2.0 to be removed in V3.0. See Pydantic V2 Migration Guide at https://errors.pydantic.dev/2.11/migration/\n",
      "  warnings.warn(DEPRECATION_MESSAGE, DeprecationWarning)\n",
      "/workspaces/Strategy_PPO_Bots/env/feature_engineering.py:96: FutureWarning: Series.fillna with 'method' is deprecated and will raise in a future version. Use obj.ffill() or obj.bfill() instead.\n",
      "  series = df[name].fillna(method=\"ffill\").fillna(0)\n",
      "/workspaces/Strategy_PPO_Bots/env/feature_engineering.py:96: FutureWarning: Series.fillna with 'method' is deprecated and will raise in a future version. Use obj.ffill() or obj.bfill() instead.\n",
      "  series = df[name].fillna(method=\"ffill\").fillna(0)\n",
      "/workspaces/Strategy_PPO_Bots/env/feature_engineering.py:96: FutureWarning: Series.fillna with 'method' is deprecated and will raise in a future version. Use obj.ffill() or obj.bfill() instead.\n",
      "  series = df[name].fillna(method=\"ffill\").fillna(0)\n"
     ]
    },
    {
     "ename": "ValueError",
     "evalue": "Unsupported indicator: rsi",
     "output_type": "error",
     "traceback": [
      "\u001b[31m---------------------------------------------------------------------------\u001b[39m",
      "\u001b[31mValueError\u001b[39m                                Traceback (most recent call last)",
      "\u001b[36mFile \u001b[39m\u001b[32m/workspaces/Strategy_PPO_Bots/train/train_ppo.py:116\u001b[39m\n\u001b[32m    113\u001b[39m \u001b[38;5;28mprint\u001b[39m(\u001b[33m\"\u001b[39m\u001b[33m=== DEBUG END ===\u001b[39m\u001b[38;5;130;01m\\n\u001b[39;00m\u001b[33m\"\u001b[39m)\n\u001b[32m    115\u001b[39m \u001b[38;5;66;03m# Create environment\u001b[39;00m\n\u001b[32m--> \u001b[39m\u001b[32m116\u001b[39m env = \u001b[43mDummyVecEnv\u001b[49m\u001b[43m(\u001b[49m\u001b[43m[\u001b[49m\u001b[38;5;28;43;01mlambda\u001b[39;49;00m\u001b[43m:\u001b[49m\u001b[43m \u001b[49m\u001b[43mTradingEnv\u001b[49m\u001b[43m(\u001b[49m\u001b[43mdf\u001b[49m\u001b[43m=\u001b[49m\u001b[43mdf\u001b[49m\u001b[43m,\u001b[49m\u001b[43m \u001b[49m\u001b[43mconfig\u001b[49m\u001b[43m=\u001b[49m\u001b[43mcfg\u001b[49m\u001b[43m)\u001b[49m\u001b[43m]\u001b[49m\u001b[43m)\u001b[49m\n\u001b[32m    118\u001b[39m \u001b[38;5;66;03m# Create model\u001b[39;00m\n\u001b[32m    119\u001b[39m model = PPO(\u001b[33m\"\u001b[39m\u001b[33mMlpPolicy\u001b[39m\u001b[33m\"\u001b[39m, env, seed=SEED, **ppo_params, verbose=\u001b[32m1\u001b[39m)\n",
      "\u001b[36mFile \u001b[39m\u001b[32m/usr/local/lib/python3.11/site-packages/stable_baselines3/common/vec_env/dummy_vec_env.py:31\u001b[39m, in \u001b[36mDummyVecEnv.__init__\u001b[39m\u001b[34m(self, env_fns)\u001b[39m\n\u001b[32m     30\u001b[39m \u001b[38;5;28;01mdef\u001b[39;00m\u001b[38;5;250m \u001b[39m\u001b[34m__init__\u001b[39m(\u001b[38;5;28mself\u001b[39m, env_fns: \u001b[38;5;28mlist\u001b[39m[Callable[[], gym.Env]]):\n\u001b[32m---> \u001b[39m\u001b[32m31\u001b[39m     \u001b[38;5;28mself\u001b[39m.envs = \u001b[43m[\u001b[49m\u001b[43m_patch_env\u001b[49m\u001b[43m(\u001b[49m\u001b[43mfn\u001b[49m\u001b[43m(\u001b[49m\u001b[43m)\u001b[49m\u001b[43m)\u001b[49m\u001b[43m \u001b[49m\u001b[38;5;28;43;01mfor\u001b[39;49;00m\u001b[43m \u001b[49m\u001b[43mfn\u001b[49m\u001b[43m \u001b[49m\u001b[38;5;129;43;01min\u001b[39;49;00m\u001b[43m \u001b[49m\u001b[43menv_fns\u001b[49m\u001b[43m]\u001b[49m\n\u001b[32m     32\u001b[39m     \u001b[38;5;28;01mif\u001b[39;00m \u001b[38;5;28mlen\u001b[39m(\u001b[38;5;28mset\u001b[39m([\u001b[38;5;28mid\u001b[39m(env.unwrapped) \u001b[38;5;28;01mfor\u001b[39;00m env \u001b[38;5;129;01min\u001b[39;00m \u001b[38;5;28mself\u001b[39m.envs])) != \u001b[38;5;28mlen\u001b[39m(\u001b[38;5;28mself\u001b[39m.envs):\n\u001b[32m     33\u001b[39m         \u001b[38;5;28;01mraise\u001b[39;00m \u001b[38;5;167;01mValueError\u001b[39;00m(\n\u001b[32m     34\u001b[39m             \u001b[33m\"\u001b[39m\u001b[33mYou tried to create multiple environments, but the function to create them returned the same instance \u001b[39m\u001b[33m\"\u001b[39m\n\u001b[32m     35\u001b[39m             \u001b[33m\"\u001b[39m\u001b[33minstead of creating different objects. \u001b[39m\u001b[33m\"\u001b[39m\n\u001b[32m   (...)\u001b[39m\u001b[32m     40\u001b[39m             \u001b[33m\"\u001b[39m\u001b[33mPlease read https://github.com/DLR-RM/stable-baselines3/issues/1151 for more information.\u001b[39m\u001b[33m\"\u001b[39m\n\u001b[32m     41\u001b[39m         )\n",
      "\u001b[36mFile \u001b[39m\u001b[32m/usr/local/lib/python3.11/site-packages/stable_baselines3/common/vec_env/dummy_vec_env.py:31\u001b[39m, in \u001b[36m<listcomp>\u001b[39m\u001b[34m(.0)\u001b[39m\n\u001b[32m     30\u001b[39m \u001b[38;5;28;01mdef\u001b[39;00m\u001b[38;5;250m \u001b[39m\u001b[34m__init__\u001b[39m(\u001b[38;5;28mself\u001b[39m, env_fns: \u001b[38;5;28mlist\u001b[39m[Callable[[], gym.Env]]):\n\u001b[32m---> \u001b[39m\u001b[32m31\u001b[39m     \u001b[38;5;28mself\u001b[39m.envs = [_patch_env(\u001b[43mfn\u001b[49m\u001b[43m(\u001b[49m\u001b[43m)\u001b[49m) \u001b[38;5;28;01mfor\u001b[39;00m fn \u001b[38;5;129;01min\u001b[39;00m env_fns]\n\u001b[32m     32\u001b[39m     \u001b[38;5;28;01mif\u001b[39;00m \u001b[38;5;28mlen\u001b[39m(\u001b[38;5;28mset\u001b[39m([\u001b[38;5;28mid\u001b[39m(env.unwrapped) \u001b[38;5;28;01mfor\u001b[39;00m env \u001b[38;5;129;01min\u001b[39;00m \u001b[38;5;28mself\u001b[39m.envs])) != \u001b[38;5;28mlen\u001b[39m(\u001b[38;5;28mself\u001b[39m.envs):\n\u001b[32m     33\u001b[39m         \u001b[38;5;28;01mraise\u001b[39;00m \u001b[38;5;167;01mValueError\u001b[39;00m(\n\u001b[32m     34\u001b[39m             \u001b[33m\"\u001b[39m\u001b[33mYou tried to create multiple environments, but the function to create them returned the same instance \u001b[39m\u001b[33m\"\u001b[39m\n\u001b[32m     35\u001b[39m             \u001b[33m\"\u001b[39m\u001b[33minstead of creating different objects. \u001b[39m\u001b[33m\"\u001b[39m\n\u001b[32m   (...)\u001b[39m\u001b[32m     40\u001b[39m             \u001b[33m\"\u001b[39m\u001b[33mPlease read https://github.com/DLR-RM/stable-baselines3/issues/1151 for more information.\u001b[39m\u001b[33m\"\u001b[39m\n\u001b[32m     41\u001b[39m         )\n",
      "\u001b[36mFile \u001b[39m\u001b[32m/workspaces/Strategy_PPO_Bots/train/train_ppo.py:116\u001b[39m, in \u001b[36m<lambda>\u001b[39m\u001b[34m()\u001b[39m\n\u001b[32m    113\u001b[39m \u001b[38;5;28mprint\u001b[39m(\u001b[33m\"\u001b[39m\u001b[33m=== DEBUG END ===\u001b[39m\u001b[38;5;130;01m\\n\u001b[39;00m\u001b[33m\"\u001b[39m)\n\u001b[32m    115\u001b[39m \u001b[38;5;66;03m# Create environment\u001b[39;00m\n\u001b[32m--> \u001b[39m\u001b[32m116\u001b[39m env = DummyVecEnv([\u001b[38;5;28;01mlambda\u001b[39;00m: \u001b[43mTradingEnv\u001b[49m\u001b[43m(\u001b[49m\u001b[43mdf\u001b[49m\u001b[43m=\u001b[49m\u001b[43mdf\u001b[49m\u001b[43m,\u001b[49m\u001b[43m \u001b[49m\u001b[43mconfig\u001b[49m\u001b[43m=\u001b[49m\u001b[43mcfg\u001b[49m\u001b[43m)\u001b[49m])\n\u001b[32m    118\u001b[39m \u001b[38;5;66;03m# Create model\u001b[39;00m\n\u001b[32m    119\u001b[39m model = PPO(\u001b[33m\"\u001b[39m\u001b[33mMlpPolicy\u001b[39m\u001b[33m\"\u001b[39m, env, seed=SEED, **ppo_params, verbose=\u001b[32m1\u001b[39m)\n",
      "\u001b[36mFile \u001b[39m\u001b[32m/workspaces/Strategy_PPO_Bots/env/trading_env.py:39\u001b[39m, in \u001b[36mTradingEnv.__init__\u001b[39m\u001b[34m(self, config, df)\u001b[39m\n\u001b[32m     36\u001b[39m \u001b[38;5;28mself\u001b[39m.position_duration = \u001b[32m0\u001b[39m\n\u001b[32m     38\u001b[39m os.makedirs(\u001b[33m\"\u001b[39m\u001b[33mlogs\u001b[39m\u001b[33m\"\u001b[39m, exist_ok=\u001b[38;5;28;01mTrue\u001b[39;00m)\n\u001b[32m---> \u001b[39m\u001b[32m39\u001b[39m \u001b[38;5;28;43mself\u001b[39;49m\u001b[43m.\u001b[49m\u001b[43m_init_spaces\u001b[49m\u001b[43m(\u001b[49m\u001b[43m)\u001b[49m\n",
      "\u001b[36mFile \u001b[39m\u001b[32m/workspaces/Strategy_PPO_Bots/env/trading_env.py:50\u001b[39m, in \u001b[36mTradingEnv._init_spaces\u001b[39m\u001b[34m(self)\u001b[39m\n\u001b[32m     49\u001b[39m \u001b[38;5;28;01mdef\u001b[39;00m\u001b[38;5;250m \u001b[39m\u001b[34m_init_spaces\u001b[39m(\u001b[38;5;28mself\u001b[39m):\n\u001b[32m---> \u001b[39m\u001b[32m50\u001b[39m     \u001b[38;5;28mself\u001b[39m.df, \u001b[38;5;28mself\u001b[39m.feature_columns = \u001b[43minit_feature_space\u001b[49m\u001b[43m(\u001b[49m\u001b[38;5;28;43mself\u001b[39;49m\u001b[43m.\u001b[49m\u001b[43mdf\u001b[49m\u001b[43m,\u001b[49m\u001b[43m \u001b[49m\u001b[38;5;28;43mself\u001b[39;49m\u001b[43m.\u001b[49m\u001b[43mfeatures_cfg\u001b[49m\u001b[43m,\u001b[49m\u001b[43m \u001b[49m\u001b[38;5;28;43mself\u001b[39;49m\u001b[43m.\u001b[49m\u001b[43mdebug\u001b[49m\u001b[43m)\u001b[49m\n\u001b[32m     51\u001b[39m     feature_dim = \u001b[38;5;28mlen\u001b[39m(\u001b[38;5;28mself\u001b[39m.feature_columns)\n\u001b[32m     53\u001b[39m     \u001b[38;5;28mself\u001b[39m.action_space = spaces.Discrete(\u001b[32m3\u001b[39m)  \u001b[38;5;66;03m# 0 = hold, 1 = buy, 2 = sell\u001b[39;00m\n",
      "\u001b[36mFile \u001b[39m\u001b[32m/workspaces/Strategy_PPO_Bots/env/feature_engineering.py:91\u001b[39m, in \u001b[36minit_feature_space\u001b[39m\u001b[34m(df, features_cfg, debug)\u001b[39m\n\u001b[32m     88\u001b[39m     df[name] = df[source].ewm(span=window, adjust=\u001b[38;5;28;01mFalse\u001b[39;00m).mean()\n\u001b[32m     90\u001b[39m \u001b[38;5;28;01melse\u001b[39;00m:\n\u001b[32m---> \u001b[39m\u001b[32m91\u001b[39m     \u001b[38;5;28;01mraise\u001b[39;00m \u001b[38;5;167;01mValueError\u001b[39;00m(\u001b[33mf\u001b[39m\u001b[33m\"\u001b[39m\u001b[33mUnsupported indicator: \u001b[39m\u001b[38;5;132;01m{\u001b[39;00mfield\u001b[38;5;132;01m}\u001b[39;00m\u001b[33m\"\u001b[39m)\n\u001b[32m     93\u001b[39m \u001b[38;5;66;03m# Optional normalization for indicators\u001b[39;00m\n\u001b[32m     94\u001b[39m \u001b[38;5;28;01mif\u001b[39;00m normalize:\n\u001b[32m     95\u001b[39m     \u001b[38;5;66;03m# Fill NaNs before normalization to prevent downstream errors\u001b[39;00m\n",
      "\u001b[31mValueError\u001b[39m: Unsupported indicator: rsi"
     ]
    }
   ],
   "source": [
    "# Run PPO training using files in `data/` directory\n",
    "%run train/train_ppo.py"
   ]
  },
  {
   "cell_type": "code",
   "execution_count": null,
   "id": "71c6d103",
   "metadata": {},
   "outputs": [],
   "source": [
    "! ls ../debug_rewards.log\n"
   ]
  }
 ],
 "metadata": {
  "kernelspec": {
   "display_name": "Python 3",
   "language": "python",
   "name": "python3"
  },
  "language_info": {
   "codemirror_mode": {
    "name": "ipython",
    "version": 3
   },
   "file_extension": ".py",
   "mimetype": "text/x-python",
   "name": "python",
   "nbconvert_exporter": "python",
   "pygments_lexer": "ipython3",
   "version": "3.11.12"
  }
 },
 "nbformat": 4,
 "nbformat_minor": 5
}
