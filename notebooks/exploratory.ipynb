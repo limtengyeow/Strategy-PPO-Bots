{
 "cells": [
  {
   "cell_type": "code",
   "execution_count": null,
   "id": "7c5321ac",
   "metadata": {},
   "outputs": [],
   "source": [
    "%load_ext autoreload\n",
    "%autoreload 2"
   ]
  },
  {
   "cell_type": "code",
   "execution_count": null,
   "id": "119de28c",
   "metadata": {},
   "outputs": [],
   "source": [
    "## Set-up Environment\n",
    "import os\n",
    "import sys\n",
    "\n",
    "# Setup: Get notebook directory and set project root\n",
    "notebook_dir = os.getcwd()\n",
    "project_root = os.path.abspath(os.path.join(notebook_dir, \"..\"))\n",
    "os.chdir(project_root)\n",
    "\n",
    "# Add project root to Python path for absolute imports like 'env.trading_env'\n",
    "if project_root not in sys.path:\n",
    "    sys.path.append(project_root)\n",
    "\n",
    "# Print confirmation\n",
    "print(\"📂 Notebook directory:\", notebook_dir)\n",
    "print(\"✅ Project root set to:\", project_root)\n",
    "\n",
    "# Change directory to project folder (optional)\n",
    "%cd /workspaces/Strategy_PPO_Bots\n"
   ]
  },
  {
   "cell_type": "code",
   "execution_count": null,
   "id": "98aa58f7",
   "metadata": {},
   "outputs": [],
   "source": [
    "## Check to ensure in the right directory\n",
    "! pwd"
   ]
  },
  {
   "cell_type": "code",
   "execution_count": null,
   "id": "8b8cbfab",
   "metadata": {},
   "outputs": [],
   "source": [
    "## Install dependencies\n",
    "! pip install -r requirements.txt"
   ]
  },
  {
   "cell_type": "code",
   "execution_count": null,
   "id": "613f183e",
   "metadata": {},
   "outputs": [],
   "source": [
    "## Run integration test script\n",
    "#! pytest tests/integration/test_integration.py --maxfail=1 --disable-warnings -q"
   ]
  },
  {
   "cell_type": "code",
   "execution_count": null,
   "id": "3f04b7ce",
   "metadata": {},
   "outputs": [],
   "source": [
    "## Generate Training Data\n",
    "! python data_gen/generate_data.py"
   ]
  },
  {
   "cell_type": "code",
   "execution_count": null,
   "id": "ed5c4450",
   "metadata": {},
   "outputs": [],
   "source": [
    "## ─── Plot all 1day CSVs in data/ ─────────────────────────────────────────\n",
    "import glob\n",
    "\n",
    "import matplotlib.pyplot as plt\n",
    "import pandas as pd\n",
    "\n",
    "# 1. Grab every CSV matching *_1day.csv\n",
    "csv_files = glob.glob(\"data/*_1day.csv\")\n",
    "if not csv_files:\n",
    "    raise FileNotFoundError(\"No files found: data/*_1day.csv\")\n",
    "\n",
    "# 2. Loop and plot\n",
    "for file_path in sorted(csv_files):\n",
    "    # Load and parse time\n",
    "    df = pd.read_csv(file_path, parse_dates=[0])\n",
    "    df.set_index(df.columns[0], inplace=True)\n",
    "\n",
    "    # Extract ticker from filename\n",
    "    ticker = file_path.split(\"/\")[-1].split(\"_\")[0]\n",
    "\n",
    "    # Create the figure\n",
    "    plt.figure(figsize=(10, 4))\n",
    "    plt.plot(df.index, df[\"close\"], linewidth=1)\n",
    "    plt.title(f\"{ticker} 1-Day Close Price\")\n",
    "    plt.xlabel(\"Time\")\n",
    "    plt.ylabel(\"Close Price\")\n",
    "    plt.tight_layout()\n",
    "    plt.show()"
   ]
  },
  {
   "cell_type": "code",
   "execution_count": null,
   "id": "69de9537",
   "metadata": {},
   "outputs": [],
   "source": [
    "import os\n",
    "\n",
    "import pandas as pd\n",
    "\n",
    "# Define the path to your data file\n",
    "data_file_path = \"data/NVDA_1min.parquet\"  # Adjust this path if your data is not in a 'data' folder relative to your notebook\n",
    "\n",
    "# Check if the file exists before attempting to read it\n",
    "if os.path.exists(data_file_path):\n",
    "    # Load the parquet file into a pandas DataFrame\n",
    "    df_check = pd.read_parquet(data_file_path)\n",
    "\n",
    "    # Print the first few rows to see the data structure\n",
    "    print(\"--- First 5 rows of NVDA_1min.parquet ---\")\n",
    "    print(df_check.head())\n",
    "\n",
    "    # Print all column names to check for 'close' (case-sensitive)\n",
    "    print(\"\\n--- Column names in NVDA_1min.parquet ---\")\n",
    "    print(df_check.columns.tolist())\n",
    "\n",
    "    # Check specifically if 'close' column exists\n",
    "    if \"close\" in df_check.columns:\n",
    "        print(\"\\n✅ 'close' column found!\")\n",
    "    elif \"Close\" in df_check.columns:\n",
    "        print(\"\\n⚠️ 'Close' (capital C) column found instead of 'close' (lowercase c).\")\n",
    "    else:\n",
    "        print(\"\\n❌ 'close' column not found in any capitalization.\")\n",
    "\n",
    "else:\n",
    "    print(\n",
    "        f\"Error: Data file not found at {data_file_path}. Please ensure generate_data.py has been run successfully.\"\n",
    "    )"
   ]
  },
  {
   "cell_type": "code",
   "execution_count": null,
   "id": "f341b7d8",
   "metadata": {},
   "outputs": [],
   "source": [
    "## Run Integration Test for PPO\n",
    "# %run train/train_ppo.py --test\n"
   ]
  },
  {
   "cell_type": "code",
   "execution_count": null,
   "id": "2fc37589",
   "metadata": {},
   "outputs": [],
   "source": [
    "# import torch\n",
    "\n",
    "# print(\"CUDA Available:\", torch.cuda.is_available())\n",
    "# print(\"Device:\", torch.cuda.get_device_name(0) if torch.cuda.is_available() else \"CPU\")\n"
   ]
  },
  {
   "cell_type": "code",
   "execution_count": null,
   "id": "68aebfbd",
   "metadata": {},
   "outputs": [],
   "source": [
    "# Run PPO training using files in `data/` directory\n",
    "%run train/train_ppo.py"
   ]
  },
  {
   "cell_type": "code",
   "execution_count": null,
   "id": "71c6d103",
   "metadata": {},
   "outputs": [],
   "source": [
    "#! ls ../debug_rewards.log\n"
   ]
  }
 ],
 "metadata": {
  "kernelspec": {
   "display_name": "Python 3",
   "language": "python",
   "name": "python3"
  },
  "language_info": {
   "codemirror_mode": {
    "name": "ipython",
    "version": 3
   },
   "file_extension": ".py",
   "mimetype": "text/x-python",
   "name": "python",
   "nbconvert_exporter": "python",
   "pygments_lexer": "ipython3",
   "version": "3.11.12"
  }
 },
 "nbformat": 4,
 "nbformat_minor": 5
}
