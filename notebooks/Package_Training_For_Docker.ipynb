{
 "cells": [
  {
   "cell_type": "markdown",
   "metadata": {},
   "source": [
    "# 📦 Package Training Code for Docker\n",
    "This notebook will zip your training script, config, environment, callbacks, and data into a single `.zip` file for Docker or remote deployment."
   ]
  },
  {
   "cell_type": "code",
   "execution_count": 1,
   "id": "64c92b09",
   "metadata": {},
   "outputs": [
    {
     "name": "stdout",
     "output_type": "stream",
     "text": [
      "📁 Notebook directory: /workspace/Strategy-PPO-Bots/notebooks\n",
      "✅ Project root set to: /workspace/Strategy-PPO-Bots\n"
     ]
    }
   ],
   "source": [
    "## Set-up Environment\n",
    "import os\n",
    "import sys\n",
    "\n",
    "# Set project root (assumes notebook is in 'notebooks/' and project is one level up)\n",
    "notebook_dir = os.getcwd()\n",
    "project_root = os.path.abspath(os.path.join(notebook_dir, \"..\"))\n",
    "os.chdir(project_root)\n",
    "\n",
    "# Add root to Python path for absolute imports like `env.trading_env`\n",
    "if project_root not in sys.path:\n",
    "    sys.path.append(project_root)\n",
    "\n",
    "print(\"📁 Notebook directory:\", notebook_dir)\n",
    "print(\"✅ Project root set to:\", project_root)\n"
   ]
  },
  {
   "cell_type": "code",
   "execution_count": null,
   "id": "8e901c7d",
   "metadata": {},
   "outputs": [
    {
     "name": "stdout",
     "output_type": "stream",
     "text": [
      "train/train_ppo_standalone.py  --> FOUND\n",
      "config.json                    --> FOUND\n",
      "requirements.txt               --> FOUND\n",
      "env                            --> FOUND\n",
      "callbacks                      --> FOUND\n",
      "data                           --> FOUND\n"
     ]
    }
   ],
   "source": [
    "\n",
    "files_to_check = [\n",
    "    \"train/train_ppo_standalone.py\",\n",
    "    \"config.json\",\n",
    "    \"Dockerfile\",\n",
    "    \"run_with_config.sh\",\n",
    "    \"docker-compose.yml\",\n",
    "    \"requirements.txt\",\n",
    "    \"env\",\n",
    "    \"callbacks\",\n",
    "    \"data\"\n",
    "]\n",
    "\n",
    "for path in files_to_check:\n",
    "    print(f\"{path:30} --> {'FOUND' if os.path.exists(path) else 'MISSING'}\")\n"
   ]
  },
  {
   "cell_type": "code",
   "execution_count": null,
   "id": "6d3352a8",
   "metadata": {},
   "outputs": [
    {
     "name": "stdout",
     "output_type": "stream",
     "text": [
      "[✔] Zip created: /workspace/Strategy-PPO-Bots/training_package_standalone.zip\n"
     ]
    }
   ],
   "source": [
    "import zipfile\n",
    "import os\n",
    "\n",
    "# Set zip output path in the root directory\n",
    "zip_path = os.path.join(os.getcwd(), \"training_package_standalone.zip\")\n",
    "\n",
    "# Define all root-level files and folders to include\n",
    "contents_to_zip = [\n",
    "    \"Dockerfile\",\n",
    "    \"run_with_config.sh\",\n",
    "    \"docker-compose.yml\",\n",
    "    \"config.json\",\n",
    "    \"requirements.txt\",\n",
    "    \"train\",\n",
    "    \"env\",\n",
    "    \"callbacks\",\n",
    "    \"data\"\n",
    "]\n",
    "\n",
    "with zipfile.ZipFile(zip_path, 'w', zipfile.ZIP_DEFLATED) as zipf:\n",
    "    for item in contents_to_zip:\n",
    "        if os.path.isfile(item):\n",
    "            zipf.write(item, arcname=item)\n",
    "        elif os.path.isdir(item):\n",
    "            for root, _, files in os.walk(item):\n",
    "                for file in files:\n",
    "                    full_path = os.path.join(root, file)\n",
    "                    arcname = os.path.relpath(full_path)\n",
    "                    zipf.write(full_path, arcname=arcname)\n",
    "\n",
    "print(f\"[✔] Zip created: {zip_path}\")\n"
   ]
  }
 ],
 "metadata": {
  "kernelspec": {
   "display_name": "base",
   "language": "python",
   "name": "python3"
  },
  "language_info": {
   "codemirror_mode": {
    "name": "ipython",
    "version": 3
   },
   "file_extension": ".py",
   "mimetype": "text/x-python",
   "name": "python",
   "nbconvert_exporter": "python",
   "pygments_lexer": "ipython3",
   "version": "undefined.undefined.undefined"
  }
 },
 "nbformat": 4,
 "nbformat_minor": 5
}
